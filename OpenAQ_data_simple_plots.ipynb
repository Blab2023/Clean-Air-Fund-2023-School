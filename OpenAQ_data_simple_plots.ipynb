{
  "nbformat": 4,
  "nbformat_minor": 0,
  "metadata": {
    "colab": {
      "provenance": []
    },
    "kernelspec": {
      "name": "python3",
      "display_name": "Python 3"
    },
    "language_info": {
      "name": "python"
    }
  },
  "cells": [
    {
      "cell_type": "markdown",
      "source": [
        "Here we have some simple code examples to plot air pollutant concentration data downloaded from the OpenAQ website (using the API).\n",
        "\n",
        "Code was written by Dr Ben Silver, University of Leeds."
      ],
      "metadata": {
        "id": "r82_EdFSnRkD"
      }
    },
    {
      "cell_type": "markdown",
      "source": [
        "Import packages and set directory:"
      ],
      "metadata": {
        "id": "4UJoDWAMju6g"
      }
    },
    {
      "cell_type": "code",
      "execution_count": null,
      "metadata": {
        "id": "_CNuIrUujtlw"
      },
      "outputs": [],
      "source": [
        "import pandas as pd\n",
        "from glob import glob\n",
        "import matplotlib.pyplot as plt\n",
        "\n",
        "data_path = './example_data/OpenAQ_Ghana/'"
      ]
    },
    {
      "cell_type": "markdown",
      "source": [
        "Load OpenAQ PM2.5 data and station metadata:"
      ],
      "metadata": {
        "id": "eWibs4svmAM5"
      }
    },
    {
      "cell_type": "code",
      "source": [
        "def load_ghana_data():\n",
        "\n",
        "    fpaths = glob(data_path+'downloaded_data/station_*.csv')\n",
        "\n",
        "    srs = []\n",
        "    for fpath in fpaths:\n",
        "        sr = pd.read_csv(fpath, index_col=0).squeeze()\n",
        "\n",
        "        # skip stations where length is zero\n",
        "        if len(sr) == 0:\n",
        "            continue\n",
        "\n",
        "        # convert index back to datetime\n",
        "        sr.index = pd.to_datetime(sr.index)\n",
        "        # messed this bit up and couldnt be bother to redownload\n",
        "        sr.name = fpath.split('/')[-1][8:-4]\n",
        "        srs.append(sr)\n",
        "\n",
        "    df = pd.concat(srs, axis=1)\n",
        "    df = df.sort_index()\n",
        "    return df\n",
        "\n",
        "\n",
        "df = load_ghana_data()\n",
        "\n",
        "metadata = pd.read_csv(data_path+'Ghana_stations_list.csv',\n",
        "                       index_col='id')"
      ],
      "metadata": {
        "id": "fN1-j5x0l2lJ"
      },
      "execution_count": null,
      "outputs": []
    },
    {
      "cell_type": "markdown",
      "source": [
        "\"Clean\" data; remove suspicious concentrations:"
      ],
      "metadata": {
        "id": "PMV34RfOmkm9"
      }
    },
    {
      "cell_type": "code",
      "source": [
        "# -999 seems to be a bad data flag. replace with nan\n",
        "df = df.where(df!=-999)\n",
        "\n",
        "print(f'{((df < 0).sum().sum() / df.size) * 100:.2f}% of the data is negative')\n",
        "# replace with nan\n",
        "df = df.where(df > 0)\n",
        "\n",
        "# two of the stations have means > 1000 ug/m3, remove these\n",
        "df = df.loc[:, df.mean() < 1000]"
      ],
      "metadata": {
        "id": "7wWQBBk2mivh"
      },
      "execution_count": null,
      "outputs": []
    },
    {
      "cell_type": "markdown",
      "source": [
        "Plot daily mean of all data:"
      ],
      "metadata": {
        "id": "jh6Fa_S6mw-5"
      }
    },
    {
      "cell_type": "code",
      "source": [
        "df.resample('D').mean().plot(alpha=.3, color='black',\n",
        "                             legend=None)"
      ],
      "metadata": {
        "id": "lOfFJUKIm6Ou"
      },
      "execution_count": null,
      "outputs": []
    },
    {
      "cell_type": "markdown",
      "source": [
        "Plot station data availability:"
      ],
      "metadata": {
        "id": "nn8g0s4QnDhp"
      }
    },
    {
      "cell_type": "code",
      "source": [
        "fig, ax = plt.subplots(figsize=[8,5])\n",
        "pct_avail = (df.notnull().resample('M').sum()  > 100).sum(1) / len(df.columns) * 100\n",
        "pct_avail.plot(ax=ax)\n",
        "ax.set_ylabel('%')\n",
        "ax.set_title('Proportion of stations with over 100 hourly observations in month')"
      ],
      "metadata": {
        "id": "NYGfN_XinLjr"
      },
      "execution_count": null,
      "outputs": []
    },
    {
      "cell_type": "markdown",
      "source": [
        "Plot monthly mean PM2.5 concentration (seasonal cycle):"
      ],
      "metadata": {
        "id": "rBLSFhaNnnA4"
      }
    },
    {
      "cell_type": "code",
      "source": [
        "fig, ax = plt.subplots(figsize=[8,5])\n",
        "df.groupby(df.index.month).mean().mean(1).plot(ax=ax)\n",
        "ax.set_ylabel('PM$_{2.5}$ concentration µg m$^{-3}$')\n",
        "ax.set_ylim(0)\n",
        "ax.set_xlabel('month')"
      ],
      "metadata": {
        "id": "jqehgdD7nvMl"
      },
      "execution_count": null,
      "outputs": []
    },
    {
      "cell_type": "markdown",
      "source": [
        "Plot hourly mean PM2.5 concentration (diurnal cycle):"
      ],
      "metadata": {
        "id": "fuc8G9udnz9x"
      }
    },
    {
      "cell_type": "code",
      "source": [
        "fig, ax = plt.subplots(figsize=[8,5])\n",
        "df.groupby(df.index.hour).mean().mean(1).plot(ax=ax)\n",
        "ax.set_ylabel('PM$_{2.5}$ concentration µg m^{-3}')\n",
        "ax.set_ylim(0)\n",
        "ax.set_xlabel('hour of day')"
      ],
      "metadata": {
        "id": "Uo_wjgdeoBPz"
      },
      "execution_count": null,
      "outputs": []
    }
  ]
}