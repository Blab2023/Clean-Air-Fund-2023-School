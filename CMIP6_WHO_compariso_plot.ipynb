{
 "cells": [
  {
   "cell_type": "markdown",
   "metadata": {
    "id": "xlBcVWpMtru_"
   },
   "source": [
    "Here is some code to read in model-simulated PM2.5 data (in a netCDF file) and compare it to WHO measurements.\n",
    "\n",
    "Code written by Dr Ben Silver and Dr Carly Reddington."
   ]
  },
  {
   "cell_type": "code",
   "execution_count": 1,
   "metadata": {
    "id": "b6miou-Ptnly"
   },
   "outputs": [
    {
     "ename": "ModuleNotFoundError",
     "evalue": "No module named 'xarray'",
     "output_type": "error",
     "traceback": [
      "\u001b[0;31m---------------------------------------------------------------------------\u001b[0m",
      "\u001b[0;31mModuleNotFoundError\u001b[0m                       Traceback (most recent call last)",
      "\u001b[0;32m<ipython-input-1-3d2a4b5ba098>\u001b[0m in \u001b[0;36m<module>\u001b[0;34m\u001b[0m\n\u001b[0;32m----> 1\u001b[0;31m \u001b[0;32mimport\u001b[0m \u001b[0mxarray\u001b[0m \u001b[0;32mas\u001b[0m \u001b[0mxr\u001b[0m\u001b[0;34m\u001b[0m\u001b[0;34m\u001b[0m\u001b[0m\n\u001b[0m\u001b[1;32m      2\u001b[0m \u001b[0;32mimport\u001b[0m \u001b[0mpandas\u001b[0m \u001b[0;32mas\u001b[0m \u001b[0mpd\u001b[0m\u001b[0;34m\u001b[0m\u001b[0;34m\u001b[0m\u001b[0m\n\u001b[1;32m      3\u001b[0m \u001b[0;32mimport\u001b[0m \u001b[0mmatplotlib\u001b[0m\u001b[0;34m.\u001b[0m\u001b[0mpyplot\u001b[0m \u001b[0;32mas\u001b[0m \u001b[0mplt\u001b[0m\u001b[0;34m\u001b[0m\u001b[0;34m\u001b[0m\u001b[0m\n\u001b[1;32m      4\u001b[0m \u001b[0;32mimport\u001b[0m \u001b[0mcartopy\u001b[0m\u001b[0;34m.\u001b[0m\u001b[0mcrs\u001b[0m \u001b[0;32mas\u001b[0m \u001b[0mccrs\u001b[0m\u001b[0;34m\u001b[0m\u001b[0;34m\u001b[0m\u001b[0m\n\u001b[1;32m      5\u001b[0m \u001b[0;32mimport\u001b[0m \u001b[0mcartopy\u001b[0m\u001b[0;34m.\u001b[0m\u001b[0mfeature\u001b[0m \u001b[0;32mas\u001b[0m \u001b[0mcf\u001b[0m\u001b[0;34m\u001b[0m\u001b[0;34m\u001b[0m\u001b[0m\n",
      "\u001b[0;31mModuleNotFoundError\u001b[0m: No module named 'xarray'"
     ]
    }
   ],
   "source": [
    "import xarray as xr\n",
    "import pandas as pd\n",
    "import matplotlib.pyplot as plt\n",
    "import cartopy.crs as ccrs\n",
    "import cartopy.feature as cf\n",
    "import numpy as np\n",
    "\n",
    "data_path = \"https://raw.githubusercontent.com/aqppssgh/2023-School/main/example_data/\""
   ]
  },
  {
   "cell_type": "markdown",
   "metadata": {
    "id": "HS3m0QPa-Fm8"
   },
   "source": [
    "Open measurement data from the WHO Database and extract PM2.5 concentrations (annual mean):"
   ]
  },
  {
   "cell_type": "code",
   "execution_count": null,
   "metadata": {
    "id": "vSU_5izZvLId"
   },
   "outputs": [],
   "source": [
    "obs = pd.read_csv(f'{data_path}who_ambient_air_quality_database_version_2023_(v6.0).csv')[['city','year','pm25_concentration','latitude','longitude']]\n",
    "#obs = pd.read_csv(f'{data_path}WHO_AirQuality_Database_2018_10Nov21.csv')[['city','year','pm25_concentration','latitude','longitude']]\n",
    "\n",
    "#select measurements from 2016 only\n",
    "year = 2016\n",
    "obs_mean = obs.loc[obs['year']==year]\n",
    "obs_mean = obs_mean.dropna()\n",
    "\n",
    "# extract lat lon columns\n",
    "coords = obs_mean[['latitude', 'longitude']].astype(float)\n",
    "\n",
    "#drop columns that aren't needed\n",
    "obs_mean = obs_mean.drop(columns=['year','latitude','longitude']).set_index('city')\n"
   ]
  },
  {
   "cell_type": "markdown",
   "metadata": {
    "id": "GrFy34QI-p9W"
   },
   "source": [
    "Open model data.\n",
    "Model data is CMIP6 multi-model mean surface PM2.5 concentration averaged over 5 years (2015-2019) for scenario SSP2-4.5:"
   ]
  },
  {
   "cell_type": "code",
   "execution_count": null,
   "metadata": {},
   "outputs": [],
   "source": [
    "# URL of the NetCDF file on GitHub\n",
    "url = \"{data_path}Annual_mean_surface_PM25_ensemble_mean_CMIP6_5models_ssp245_2015-2019mean_0.125deg.nc\"\n",
    "\n",
    "local_file = \"Annual_mean_surface_PM25_ensemble_mean_CMIP6_5models_ssp245_2015-2019mean_0.125deg.nc\"\n",
    "# Download the file\n",
    "response = requests.get(url)\n",
    "with open(local_file, 'wb') as file:\n",
    "    file.write(response.content)"
   ]
  },
  {
   "cell_type": "code",
   "execution_count": null,
   "metadata": {
    "id": "4czPQv8E-E2m"
   },
   "outputs": [],
   "source": [
    "# use current year from model data (2015-2019 average)\n",
    "#model_mean = xr.open_dataarray(f'{data_path}Annual_mean_surface_PM25_ensemble_mean_CMIP6_5models_ssp245_2015-2019mean_0.125deg.nc')\n",
    "model_mean = xr.open_dataarray(local_file)\n",
    "\n",
    "\n",
    "model_mean = model_mean.drop(labels='time')\n",
    "\n",
    "#model_mean = xr.open_dataarray(f'{data_path}Merged_annual_mean_surface_PM25_CMIP6_5models_ssp245_GWRPM25_2015-2019mean_0.125deg.nc')"
   ]
  },
  {
   "cell_type": "markdown",
   "metadata": {
    "id": "W6bdrhRl-9Wr"
   },
   "source": [
    "Plot the model data as a global map:"
   ]
  },
  {
   "cell_type": "code",
   "execution_count": null,
   "metadata": {
    "id": "YOQGkw_-_RTW"
   },
   "outputs": [],
   "source": [
    "#%% to ensure colour mapping is the same for model and measurements,\n",
    "# find appropriate limits for both\n",
    "\n",
    "# take whichever is higher, model/obs 95th quantile\n",
    "vmax = max(obs_mean['pm25_concentration'].quantile(.95).item(),\n",
    "           model_mean.quantile(.95).item())\n",
    "\n",
    "#%% plot figure\n",
    "\n",
    "latlon_proj = ccrs.Robinson()#ccrs.PlateCarree()\n",
    "\n",
    "fig = plt.figure(figsize=[10,10])\n",
    "\n",
    "# add an axis with an orthographic projection\n",
    "ax = fig.add_subplot(projection=latlon_proj)\n",
    "# add coastlines\n",
    "ax.coastlines()\n",
    "# add borders\n",
    "ax.add_feature(cf.BORDERS)\n",
    "\n",
    "# set map extent to match model grid\n",
    "westlimit=-180.0; southlimit=-50.0; eastlimit=180.0; northlimit=77.0\n",
    "ax.set_extent([westlimit, eastlimit, southlimit, northlimit],\n",
    "              crs=latlon_proj) # must tell it coordinates are in latitude longitude\n",
    "\n",
    "\n",
    "# add model data\n",
    "model_mean.plot(ax=ax, vmin=0, vmax=vmax, cmap='magma',\n",
    "                transform=latlon_proj, # must tell it coordinates are in latitude longitude\n",
    "                cbar_kwargs={'shrink':.5, 'label':'PM2.5 concentration'},\n",
    "                zorder=0)\n",
    "\n",
    "ax.set_title('Multi-model mean annual mean PM2.5 for 2015-2019')"
   ]
  },
  {
   "cell_type": "markdown",
   "metadata": {
    "id": "ft62785S_Xzm"
   },
   "source": [
    "Plot the WHO station data on top of the model data, as a global map:"
   ]
  },
  {
   "cell_type": "code",
   "execution_count": null,
   "metadata": {
    "id": "yMxdLlWX_gAd"
   },
   "outputs": [],
   "source": [
    "#%% plot figure\n",
    "fig = plt.figure(figsize=[10,10])\n",
    "\n",
    "# add an axis with an orthographic projection\n",
    "ax = fig.add_subplot(projection=latlon_proj)\n",
    "# add coastlines\n",
    "ax.coastlines()\n",
    "# add borders\n",
    "ax.add_feature(cf.BORDERS)\n",
    "\n",
    "# set map extent to match model grid\n",
    "westlimit=-180.0; southlimit=-50.0; eastlimit=180.0; northlimit=77.0\n",
    "ax.set_extent([westlimit, eastlimit, southlimit, northlimit],\n",
    "              crs=latlon_proj) # must tell it coordinates are in latitude longitude\n",
    "\n",
    "\n",
    "# add model data\n",
    "model_mean.plot(ax=ax, vmin=0, vmax=vmax, cmap='magma',\n",
    "                transform=latlon_proj, # must tell it coordinates are in latitude longitude\n",
    "                cbar_kwargs={'shrink':.5, 'label':'PM2.5 concentration'},\n",
    "                zorder=0)\n",
    "\n",
    "# add measurement data\n",
    "ax.scatter(x=coords.longitude, y=coords.latitude, transform=latlon_proj, # must tell it coordinates are in latitude longitude\n",
    "            c=obs_mean.values, # make colour set by obs value,\n",
    "            vmin=0, vmax=vmax, cmap='magma', # ensure colourbar is the same\n",
    "           zorder=1, s=20, edgecolor='white', linewidth=.2)\n",
    "\n",
    "ax.set_title('Annual mean PM2.5 comparison')"
   ]
  },
  {
   "cell_type": "markdown",
   "metadata": {
    "id": "QkUXpPc4ALEv"
   },
   "source": [
    "Plot the modelled and measured PM2.5 concentrations against each other to look at the spatial correlation and model bias:"
   ]
  },
  {
   "cell_type": "code",
   "execution_count": null,
   "metadata": {
    "id": "BKNP5BsE__dH"
   },
   "outputs": [],
   "source": [
    "\n",
    "# Get model data at the location of the station\n",
    "model_station = model_mean.sel(lat=coords.latitude.values,\n",
    "                               lon=coords.longitude.values, method='nearest').values[0]\n",
    "obs_station = np.squeeze(obs_mean.values)\n",
    "\n",
    "fig = plt.figure(figsize=[10,10])\n",
    "ax = fig.add_subplot()#gs[0]\n",
    "ax.set_facecolor('whitesmoke')\n",
    "plt.ylabel('Modelled $PM_{2.5}$ (${\\mu}g$ $m^{-3}$)', fontsize=14)\n",
    "plt.xlabel('Measured $PM_{2.5}$ (${\\mu}g$ $m^{-3}$)', fontsize=14)\n",
    "vmax = 150\n",
    "ax.set_xlim((0.0, vmax))\n",
    "ax.set_ylim((0.0, vmax))\n",
    "plt.xticks(fontsize=14)\n",
    "plt.yticks(fontsize=14)\n",
    "plt.scatter(obs_station, model_station,\n",
    "            marker='o', lw=0, c='#7fbf7b', s=70, alpha=0.8)\n",
    "x = np.arange(2 * vmax)\n",
    "plt.plot(x, x, '', color='black', ls='dashed')\n",
    "plt.plot(x, 0.5 * x, '', color='black', ls='dashed')\n",
    "plt.plot(x, 2 * x, '', color='black', ls='dashed')"
   ]
  },
  {
   "cell_type": "markdown",
   "metadata": {
    "id": "QLswuu2HAV4H"
   },
   "source": [
    "Calculate a statistical measure of model bias to assess the model performance:"
   ]
  },
  {
   "cell_type": "code",
   "execution_count": null,
   "metadata": {
    "id": "mWrsmDm2AJML"
   },
   "outputs": [],
   "source": [
    "# Calculate the normalised mean bias factor\n",
    "nmbf=((np.sum(model_station)-np.sum(obs_station))\n",
    "      /np.absolute(np.sum(model_station)-np.sum(obs_station)))*(np.exp(np.absolute(np.log(np.sum(model_station)/np.sum(obs_station))))-1)\n",
    "\n",
    "print('NMBF = ',round(nmbf,2))"
   ]
  }
 ],
 "metadata": {
  "colab": {
   "provenance": []
  },
  "kernelspec": {
   "display_name": "Python 3 (ipykernel)",
   "language": "python",
   "name": "python3"
  },
  "language_info": {
   "codemirror_mode": {
    "name": "ipython",
    "version": 3
   },
   "file_extension": ".py",
   "mimetype": "text/x-python",
   "name": "python",
   "nbconvert_exporter": "python",
   "pygments_lexer": "ipython3",
   "version": "3.10.10"
  }
 },
 "nbformat": 4,
 "nbformat_minor": 1
}
