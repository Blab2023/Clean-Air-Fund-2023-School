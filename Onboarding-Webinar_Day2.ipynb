{
 "cells": [
  {
   "cell_type": "markdown",
   "id": "0f840689",
   "metadata": {},
   "source": [
    "<div  style=\"height:450px\" >\n",
    "<img src=\"img/banner.png\" style=\"height:500px\" align=\"center\" />\n",
    "</div>\n",
    "<br />\n",
    "<br />\n",
    "<br />\n",
    "<hr />"
   ]
  },
  {
   "cell_type": "markdown",
   "id": "c5cc4b25",
   "metadata": {},
   "source": [
    "- # <font color='red' size=14>Welcome</font>\n",
    "    **<h3>Recordings of the sessions will be made available at: <a href=\"www.youtube.com/@meteodata\">www.youtube.com/@meteodata</a></h3>**\n"
   ]
  },
  {
   "cell_type": "raw",
   "id": "4846f0ef",
   "metadata": {},
   "source": []
  },
  {
   "cell_type": "markdown",
   "id": "44865332",
   "metadata": {},
   "source": [
    "<h1><font color='red'> To Note</font></h1>\n",
    "<hr>\n",
    "\n",
    "###  *1*: We have limited Time. Participants should ask questions where necessary and provide feedback for the success of this  Webinar. <br />\n",
    "###  *2*: This is a fundamental course and seeks to build foundational knowledge in Python Programming for Data Analysis."
   ]
  },
  {
   "cell_type": "markdown",
   "id": "a0fbdd60",
   "metadata": {},
   "source": [
    "<hr>\n",
    "   <h1>HELPFUL RESOURCES</h1>\n",
    "<ul>\n",
    "    <li><a href=\"https://www.youtube.com/@meteodata\">MeteoData</a></li>\n",
    "    <li><a href=\"https://cemac.github.io/sc-python/\">Centre for Environmental Modelling And Computation (CEMAC)</a></li>\n",
    "    <li><a href=\"https://www.lukeconibear.com/introduction_to_scientific_computing/index.html\">https://www.lukeconibear.com/introduction_to_scientific_computing/index.html</a></li>\n",
    "    <li>SoloLearn</li>\n",
    "    <li>W3Schools</li>\n",
    "    <li>StackOverflow</li>\n",
    "</ul>"
   ]
  },
  {
   "cell_type": "markdown",
   "id": "c1987aa2",
   "metadata": {},
   "source": [
    "<img width=850px height=500px align='right' src='img/IDE.jpg'>\n",
    "<h3><font color=\"red\">Python Interactive Development Environment <b>(IDE)</b></font></h3>\n"
   ]
  },
  {
   "cell_type": "markdown",
   "id": "f48a0b63",
   "metadata": {},
   "source": [
    "<hr>\n",
    "<p>\n",
    "<h3><font color='blue'>What is Scientific Computing?</font></h3></p>\n",
    "<p>Scientific computing is the use of computer-based applications and programming tools to perform various science-based data \n",
    "assessment, manipulation and visualization. The goal at the end is to make meaningful scientific information out of the raw data that \n",
    "was initially available.   </p>\n",
    "<br />\n",
    "\n",
    "There are numerous programming tools, languages or packages that can be used for scientific computing. These are based on \n",
    "user preference and ease of use. A classical example of such tools is python, which to me, is most suited for this purpose \n",
    "(other programming communities will disagree!!!) \n",
    "<br />\n",
    "\n",
    "<p>\n",
    "In this class, the main aim is to teach fundamentals of Python programming language, their usage and application. Over the coming days, we shall try to explore the usefulness of the Python language, along with its benefits in Data Applications and Statistics.  \n",
    "</p>\n",
    "\n",
    "\n",
    "<hr>\n",
    "\n",
    "<p><h3><font color='blue'>Why Python?</font></h3></p>\n",
    "<p>Python (programming language) Python is an interpreted, high-level, general-purpose programming language. Created by Guido van Rossum and first released in 1991, Python's design philosophy emphasizes code readability with its notable use of significant whitespace.\n",
    "Since most modern OS are written in C, compilers/interpreters for modern high-level languages are also written in C. Python is not an exception - its most popular/\"traditional\" implementation is called CPython and is written in C.\n",
    "As python is object-oriented, it has its own garbage collector whereas in C user has to manage memory on his own. C has compiled language. The complete source code is converted into a machine language which is easier for a computer to understand. Python on other hand is interpreted.</p>\n",
    "<p>Python can be integrated with other languages such as C, C++, and Java. This means that a programmer can take advantage of work already done in another language while using Python. It also means that he or she can leverage the strengths of other languages, such as the extra speed that C or C++ can offer, while still enjoying the ease of development that's a hallmark of Python programming. (M. Dawson, 2003, Python Programming for the Absolute Beginner)\n",
    "</p>\n",
    "<p> The advantages of Python programming spans, but is not limited to the following:</p>\n",
    "<ul>\n",
    "    <li><font color=\"red\">Python is powerful</font></li>\n",
    "    <li><font color=\"red\">Python is easy to learn and use</font></li>\n",
    "    <li><font color=\"red\">Python is free and open-source language</font></li>\n",
    "    <li><font color=\"red\">Python runs everywhere</font></li>\n",
    "    <li><font color=\"red\">Python is object-oriented</font></li>\n",
    "    <li><font color=\"red\">Python has a strong community</font></li>\n",
    "</ul>\n",
    "<p> This is just a little information on the above subject matter</p><br />\n",
    "\n",
    "\n",
    "\n",
    "Click <a href=\"https://github.com/jeffjay88/OneQuantum-Ghana/tree/main\">here</a> for some detailed foundational information \n"
   ]
  },
  {
   "cell_type": "code",
   "execution_count": null,
   "id": "4d988a7b",
   "metadata": {},
   "outputs": [],
   "source": []
  },
  {
   "cell_type": "markdown",
   "id": "ca26a3e2",
   "metadata": {},
   "source": [
    "<p><h3>Comments in Python</h3></p>\n",
    "Comments, although added to a line of code, is a non-executable part of the code. In simple terms, though they exist as part\n",
    "of the code, they have no effect on the code's execution. It only allows for readability of the code, and with ease. Python uses # for single line comments, and keeps multiple line comments in three opened and closed single or double quotes (''' ''' or \"\"\" \"\"\"). For example: <br />\n",
    "<p>#this is a single line comment</p>\n",
    "<p>''' <br />\n",
    "This is a multiple line comment. <br />\n",
    "The entire block between the quotes are the comments, and have no effect on the code. <br />\n",
    "'''</p>"
   ]
  },
  {
   "cell_type": "code",
   "execution_count": null,
   "id": "36793160",
   "metadata": {},
   "outputs": [],
   "source": [
    "#This is a single line comment"
   ]
  },
  {
   "cell_type": "code",
   "execution_count": null,
   "id": "1ea01fdd",
   "metadata": {},
   "outputs": [],
   "source": [
    "'''\n",
    "This block of code is a multi-line comment.\n",
    "All these parts are useful for readability but they play no specific part in the code run.\n",
    "'''"
   ]
  },
  {
   "cell_type": "markdown",
   "id": "a2745950",
   "metadata": {},
   "source": [
    "# Print Statement"
   ]
  },
  {
   "cell_type": "code",
   "execution_count": null,
   "id": "cf520208",
   "metadata": {},
   "outputs": [],
   "source": [
    "print(\"Hello World\")"
   ]
  },
  {
   "cell_type": "code",
   "execution_count": null,
   "id": "d1452707",
   "metadata": {},
   "outputs": [],
   "source": [
    "print(2+3)"
   ]
  },
  {
   "cell_type": "markdown",
   "id": "b368048a",
   "metadata": {},
   "source": [
    "<p><h3 style=\"color:#000\">Variable Assignment</h3></p>\n",
    "These are approaches for passing value to a variable. The value assigned the variable could be of any data type. Assignments are achieved by using the \"=\" sign. The main ways to assign values to a variable are by initialization (=), input and passing from a sub-process. Multiple assignments (passing an assigned variable as value to a new variable) are also possible. <br />\n",
    "\n",
    "Examples are illustrated below."
   ]
  },
  {
   "cell_type": "code",
   "execution_count": null,
   "id": "6b417da5",
   "metadata": {},
   "outputs": [],
   "source": [
    "a = 2\n",
    "a"
   ]
  },
  {
   "cell_type": "code",
   "execution_count": null,
   "id": "98d27c53",
   "metadata": {},
   "outputs": [],
   "source": [
    "c = \"Hello World\"\n",
    "c"
   ]
  },
  {
   "cell_type": "markdown",
   "id": "8ffe47a7",
   "metadata": {},
   "source": [
    "## Python Data types\n",
    "Python works with various data types, which include strings, integers, floats, boolean, arrays, lists, tuple, etc.\n",
    "\n",
    "\n",
    "\n",
    "<img width=450px align='left' src=\"img/Python-data-structure.jpg\" />\n",
    "<br />\n",
    "\n",
    "<h3>type() </h3>\n",
    "The type() method is used to identify the data type for a defined variable. \n",
    "In order to find the type of a particular variable, simply use the code,  type(variable). <h4>For example: type('hello world') produces str, type(2) produces int, type(2.0) produces float, etc.\n",
    "</h4><br />\n",
    "\n"
   ]
  },
  {
   "cell_type": "markdown",
   "id": "b92d08a6",
   "metadata": {},
   "source": [
    "<h4><big> i. String Data Type</big></h4>\n",
    "These are data types that are kept in either single- or double- quotes. eg., 'python', 'today', 'first_name', \"surname\", \"password\".\n",
    "It is inappropriate to close a single quote with a double-, or vice-versa. The opening and closing quotes must be same.\n",
    "In appropriate string types include \"here', 'class\", etc.\n",
    "<br />"
   ]
  },
  {
   "cell_type": "code",
   "execution_count": null,
   "id": "3e43f44a",
   "metadata": {},
   "outputs": [],
   "source": [
    "\"Hello World\""
   ]
  },
  {
   "cell_type": "code",
   "execution_count": null,
   "id": "b2776397",
   "metadata": {},
   "outputs": [],
   "source": [
    "type(\"Hello World\")   #check data type"
   ]
  },
  {
   "cell_type": "code",
   "execution_count": null,
   "id": "82740d7f",
   "metadata": {},
   "outputs": [],
   "source": [
    "\"Hello World\".lower()   #change string to lowercase"
   ]
  },
  {
   "cell_type": "code",
   "execution_count": null,
   "id": "c1dbe92d",
   "metadata": {},
   "outputs": [],
   "source": [
    "\"Hello World\".upper()   #change string to uppercase"
   ]
  },
  {
   "cell_type": "code",
   "execution_count": null,
   "id": "b640c6ac",
   "metadata": {},
   "outputs": [],
   "source": [
    "len(\"Hello World\")     #Check the string length "
   ]
  },
  {
   "cell_type": "code",
   "execution_count": null,
   "id": "09784538",
   "metadata": {},
   "outputs": [],
   "source": [
    "\"Hello \" + \"World\"     # String Concatenation"
   ]
  },
  {
   "cell_type": "markdown",
   "id": "504e3921",
   "metadata": {},
   "source": [
    "String Subsetting\n",
    "--\n",
    "Strings can be subset using the square brackets containing the starting index, ending index and step.\n",
    "\n",
    "\n",
    "N/B: Python indexing starts from zero (0).\n",
    "\n",
    "When left empty, the default starting index is 0, the ending index is equivalent to the length of the string and the step is 1, by default."
   ]
  },
  {
   "cell_type": "code",
   "execution_count": null,
   "id": "53678e5d",
   "metadata": {},
   "outputs": [],
   "source": [
    "\"Hello World\"[0:5]"
   ]
  },
  {
   "cell_type": "code",
   "execution_count": null,
   "id": "ba3ba376",
   "metadata": {},
   "outputs": [],
   "source": [
    "\"Hello World\"[1: :2]  #Select elements on odd position"
   ]
  },
  {
   "cell_type": "code",
   "execution_count": null,
   "id": "de93956a",
   "metadata": {},
   "outputs": [],
   "source": [
    "\"Hello World\"[: :2]  #Select elements on even position"
   ]
  },
  {
   "cell_type": "code",
   "execution_count": null,
   "id": "ab4e61d7",
   "metadata": {},
   "outputs": [],
   "source": [
    "#The split() method splits a string along the given separator\n",
    "\"Hello World\".split('W')\n"
   ]
  },
  {
   "cell_type": "code",
   "execution_count": null,
   "id": "dafe6c10",
   "metadata": {},
   "outputs": [],
   "source": [
    "text = \"School on Air Quality and Pollution Prevention\"\n",
    "text.split(\"a\")"
   ]
  },
  {
   "cell_type": "markdown",
   "id": "277fea2a",
   "metadata": {},
   "source": [
    "# `Trial Example:` <br />\n",
    "Create a string variable and subset by the following descriptions:\n",
    "<ol>\n",
    "    <li>First 5 elements</li>\n",
    "    <li>Odd-indexed elements</li>\n",
    "    <li>All elements from start to end with a step of 3</li>\n",
    "</ol>"
   ]
  },
  {
   "cell_type": "markdown",
   "id": "acdfc68a",
   "metadata": {},
   "source": [
    "<details>\n",
    "    <summary><h3><font color=\"green\">Click to reveal Solution</font></h3></summary>\n",
    "  \n",
    "\n",
    "    # Question 1\n",
    "    string_var = \"A sample string variable\"\n",
    "    print(string_var[:5])\n",
    "    \n",
    "    \n",
    "    \n",
    "    # Question 2\n",
    "    print(string_var[1: :2])\n",
    "    \n",
    "    # Question 3\n",
    "    print(string_var[ : :3])\n",
    "</details>"
   ]
  },
  {
   "cell_type": "code",
   "execution_count": null,
   "id": "c1da7660",
   "metadata": {},
   "outputs": [],
   "source": [
    "# Question 1\n",
    "string_var = \"A sample string variable\"\n",
    "print(string_var[:5])\n",
    "\n",
    "\n",
    "# Question 2\n",
    "print(string_var[1: :2])\n",
    "\n",
    "\n",
    "# Question 3\n",
    "print(string_var[ : :3])"
   ]
  },
  {
   "cell_type": "markdown",
   "id": "30c380c1",
   "metadata": {},
   "source": [
    "<h4><big> ii. Handling Numbers</big></h4>\n",
    "\n",
    "Python has various representations of numbers. For a start, the basic ones we will be dealing with are integers and floats. You might be thinking, \"Numbers are numbers. What's the big deal?\" But integers and floats can act a little differently under special circumstances, as you'll see.<br /><br />\n",
    "\n",
    "<h4><big> Integers </big></h4>\n",
    "Integers are non-decimal digits, whereas floats have both whole and decimal portions. Examples of integers are 2, 4, -10, 0,  etc...\n",
    "<br />\n",
    "In Python 3, there is effectively no limit to how long an integer value can be. Of course, it is constrained by the amount of memory your system has, as are all things, but beyond that an integer can be as long as you need it to be: <br />\n",
    "\n",
    "\n",
    "<h4><big> Floating-Point Numbers </big></h4>\n",
    "The float type in Python designates a floating-point number. Float values are specified with a decimal point. Examples of floats are 2.1, 4.0, -21.5, -0., etc.   Optionally, the character e or E followed by a positive or negative integer may be appended to specify scientific notation: (for example .4e7)<br />\n",
    "\n",
    "<h4><big> Complex Numbers </big></h4>\n",
    "Complex numbers are represented by “ x + yj “. Python converts the real numbers x and y into complex using the function complex (x,y). The real part can be accessed using the function real () and imaginary part can be represented by imag ()."
   ]
  },
  {
   "cell_type": "code",
   "execution_count": null,
   "id": "930b3df8",
   "metadata": {},
   "outputs": [],
   "source": [
    "type(2)"
   ]
  },
  {
   "cell_type": "code",
   "execution_count": null,
   "id": "a8d337f2",
   "metadata": {},
   "outputs": [],
   "source": [
    "type(2.0)"
   ]
  },
  {
   "cell_type": "code",
   "execution_count": null,
   "id": "c6991b64",
   "metadata": {},
   "outputs": [],
   "source": [
    "type(4 + 2j)"
   ]
  },
  {
   "cell_type": "code",
   "execution_count": null,
   "id": "85330bec",
   "metadata": {},
   "outputs": [],
   "source": [
    "a = (-2)**0.5\n",
    "type( a )"
   ]
  },
  {
   "cell_type": "code",
   "execution_count": null,
   "id": "63716a98",
   "metadata": {},
   "outputs": [],
   "source": [
    "(-2)**0.5"
   ]
  },
  {
   "cell_type": "markdown",
   "id": "6a14c21a",
   "metadata": {},
   "source": [
    "# Basic Arithmetic\n",
    "Numbers, in Python, can be subjected to various computational forms, such as basic arithmetic (+, -, /, *, powers, mod, etc...)\n",
    "\n",
    "By default, using both float and integer in a singular arithmetic action returns a float result. (eg. 2 + 0.5). There are a few exceptions to this statement (just so you know)."
   ]
  },
  {
   "cell_type": "code",
   "execution_count": null,
   "id": "f3bdbdf4",
   "metadata": {},
   "outputs": [],
   "source": [
    "2+3     #Addition"
   ]
  },
  {
   "cell_type": "code",
   "execution_count": null,
   "id": "4be3cd87",
   "metadata": {},
   "outputs": [],
   "source": [
    "2-3     #Subtraction"
   ]
  },
  {
   "cell_type": "code",
   "execution_count": null,
   "id": "c138ac05",
   "metadata": {},
   "outputs": [],
   "source": [
    "9*8     #Multiplication"
   ]
  },
  {
   "cell_type": "code",
   "execution_count": null,
   "id": "a1443ba8",
   "metadata": {},
   "outputs": [],
   "source": [
    "5/2     #Division"
   ]
  },
  {
   "cell_type": "code",
   "execution_count": null,
   "id": "7eb0c152",
   "metadata": {},
   "outputs": [],
   "source": [
    "4.1//2    #Floor Division"
   ]
  },
  {
   "cell_type": "code",
   "execution_count": null,
   "id": "1e2689ab",
   "metadata": {},
   "outputs": [],
   "source": [
    "5%3       #Modulus (%)"
   ]
  },
  {
   "cell_type": "code",
   "execution_count": null,
   "id": "1867d5f3",
   "metadata": {},
   "outputs": [],
   "source": [
    "3**2     #Exponentiation"
   ]
  },
  {
   "cell_type": "markdown",
   "id": "a352f4b2",
   "metadata": {},
   "source": [
    "<h4 style=\"color:#000\"><big> Boolean Data Type </big></h4>\n",
    "<p>\n",
    "    This comprises of only two variables (True or False). They mostly occur when an action is expected to return any of the two stated outputs. However, they can also be assigned to a variable by the user. Let's try to check their type below and find what the output is.\n",
    "</p>"
   ]
  },
  {
   "cell_type": "code",
   "execution_count": null,
   "id": "fc47f297",
   "metadata": {},
   "outputs": [],
   "source": [
    "type(True)"
   ]
  },
  {
   "cell_type": "code",
   "execution_count": null,
   "id": "15d9931a",
   "metadata": {},
   "outputs": [],
   "source": [
    "type(False)"
   ]
  },
  {
   "cell_type": "code",
   "execution_count": null,
   "id": "b310d3cd",
   "metadata": {},
   "outputs": [],
   "source": [
    "2>3"
   ]
  },
  {
   "cell_type": "markdown",
   "id": "fad9c3a1",
   "metadata": {},
   "source": [
    "<h4 style=\"color:#000\"><big> Lists </big></h4>\n",
    "<p>\n",
    "\n",
    "Lists are created by placing all the items (elements) inside square brackets [], separated by commas. It can have any number of items and they may be of different types (integer, float, string etc.). Lists need not be homogeneous always which makes it the most powerful tool in Python. A single list may contain DataTypes like Integers, Strings, as well as Objects. Lists are mutable, and hence, they can be altered even after their creation.\n",
    "    \n",
    "`A list can also have another list as an item. This is called a nested list.`"
   ]
  },
  {
   "cell_type": "code",
   "execution_count": null,
   "id": "b02af455",
   "metadata": {},
   "outputs": [],
   "source": [
    "a = [1,2,3,4]\n",
    "type(a)"
   ]
  },
  {
   "cell_type": "code",
   "execution_count": null,
   "id": "f677fc56",
   "metadata": {},
   "outputs": [],
   "source": [
    "names = ['KNUST','UnivLeeds','CAF','NADMO','UENR', 'GMet', 'Mckingtorch Africa']\n",
    "names[0]             #List elements at the first index"
   ]
  },
  {
   "cell_type": "code",
   "execution_count": null,
   "id": "8d5a4cb5",
   "metadata": {},
   "outputs": [],
   "source": [
    "names[:3]     #List elements from the 1st to 3rd index"
   ]
  },
  {
   "cell_type": "code",
   "execution_count": null,
   "id": "787c5c5e",
   "metadata": {},
   "outputs": [],
   "source": [
    "names[ : :2]     #List elements at the odd index"
   ]
  },
  {
   "cell_type": "code",
   "execution_count": null,
   "id": "d7dd62df",
   "metadata": {},
   "outputs": [],
   "source": [
    "names[2] = 'Clean Air Fund'       #Lists are mutable\n",
    "names"
   ]
  },
  {
   "cell_type": "code",
   "execution_count": null,
   "id": "9e1c5901",
   "metadata": {},
   "outputs": [],
   "source": [
    "names[::-1]      #This reverses the list elements"
   ]
  },
  {
   "cell_type": "code",
   "execution_count": null,
   "id": "f84c09ed",
   "metadata": {},
   "outputs": [],
   "source": [
    "names.append('EPA')              # Appending to a list\n",
    "names"
   ]
  },
  {
   "cell_type": "code",
   "execution_count": null,
   "id": "fe6163c3",
   "metadata": {},
   "outputs": [],
   "source": [
    "lists = [1,2,3,4,5]\n",
    "\n",
    "[x for x in lists]                 #List Comprehensio"
   ]
  },
  {
   "cell_type": "code",
   "execution_count": null,
   "id": "3d052eeb",
   "metadata": {},
   "outputs": [],
   "source": [
    "[(x,x**2) for x in lists]"
   ]
  },
  {
   "cell_type": "markdown",
   "id": "855c20b6",
   "metadata": {},
   "source": [
    "# `Trial Example:` <br />\n",
    "Create a list and perform the following actions:\n",
    "<ol>\n",
    "    <li>Subset the First 5 elements</li>\n",
    "    <li>Subset all elements from start to end with a step of 3</li>\n",
    "    <li>Append a new element to the existing list</li>\n",
    "</ol>"
   ]
  },
  {
   "cell_type": "code",
   "execution_count": null,
   "id": "de77f08f",
   "metadata": {},
   "outputs": [],
   "source": []
  },
  {
   "cell_type": "markdown",
   "id": "234d146a",
   "metadata": {},
   "source": [
    "# Control Flow\n"
   ]
  },
  {
   "cell_type": "code",
   "execution_count": null,
   "id": "04902aae",
   "metadata": {},
   "outputs": [],
   "source": [
    "#One-Way Decision\n",
    "\n",
    "if 5>2:\n",
    "    print('Yes')"
   ]
  },
  {
   "cell_type": "code",
   "execution_count": null,
   "id": "78540f32",
   "metadata": {},
   "outputs": [],
   "source": [
    "# Examples\n",
    "x = 5\n",
    "if x == 5:                 \n",
    "    print( \"x equals 5\" )"
   ]
  },
  {
   "cell_type": "code",
   "execution_count": null,
   "id": "958dd110",
   "metadata": {},
   "outputs": [],
   "source": [
    "# Two-way Decisions\n",
    "if 5<2:\n",
    "    print(\"True\")\n",
    "else:\n",
    "    print(\"False\")"
   ]
  },
  {
   "cell_type": "code",
   "execution_count": null,
   "id": "c73fd866",
   "metadata": {},
   "outputs": [],
   "source": [
    "# Multiple Decision\n",
    "x = 2\n",
    "if x<2:\n",
    "    print(\"Less\")\n",
    "elif x==2:\n",
    "    print(\"Equal\")\n",
    "else:\n",
    "    print(\"False\")"
   ]
  },
  {
   "cell_type": "code",
   "execution_count": null,
   "id": "cefdd58d",
   "metadata": {},
   "outputs": [],
   "source": [
    "# Iterations :   These can be achieved both with the for loop and/or the while loop\n",
    "for num in range(5):\n",
    "    print(num)"
   ]
  },
  {
   "cell_type": "code",
   "execution_count": null,
   "id": "a2c7e7a9",
   "metadata": {},
   "outputs": [],
   "source": [
    "names = ['KNUST','UnivLeeds','CAF','NADMO','UENR', 'GMet', 'Mckingtorch Africa', 'EPA']\n",
    "for name in names:\n",
    "    print(name)"
   ]
  },
  {
   "cell_type": "code",
   "execution_count": null,
   "id": "c2e1faf1",
   "metadata": {},
   "outputs": [],
   "source": [
    "for index, name in enumerate(names):\n",
    "    print(index, name)"
   ]
  },
  {
   "cell_type": "code",
   "execution_count": null,
   "id": "8d8b448c",
   "metadata": {},
   "outputs": [],
   "source": []
  },
  {
   "cell_type": "markdown",
   "id": "27d11d3e",
   "metadata": {},
   "source": [
    "# Functions\n",
    "\n",
    "Functions, as used in any programming language, helps to simplify recursive, repetitive tasks. The goal of functions is to reduce the lines of code, and also to limit re-doing of same task over and over again. The word \"function\" has different meanings in mathematics and programming. In programming it refers to a named sequence of operations that perform a computation. Functions allow us to group a number of statements into a logical block. We communicate with a function through a clearly defined interface, providing certain parameters to the function, and receiving some information back. Importance of Functions include:<br />\n",
    "\n",
    "- Reduces the size of your code.\n",
    "- Saves typing and makes it easier to change the program later.\n",
    "- Makes the code clearer and readable.\n",
    "- Makes codes more manageable.\n",
    "\n",
    "\n",
    "# Syntax\n",
    "In Python 3, functions are defined of identified by the def statement. On the first line, the first item is to specify def (for defining functions), followed by the function_name(). The parenthesis are necessary since every functions relies on arguments, hence the parenthesis holds all dependent arguments. See the Python 3 function syntax below\n",
    "\n"
   ]
  },
  {
   "cell_type": "raw",
   "id": "141e726f",
   "metadata": {},
   "source": [
    "def function_name (arg1, arg2 ...,argn):\n",
    "\n",
    "    statements\n",
    "    return"
   ]
  },
  {
   "cell_type": "markdown",
   "id": "5e2e7cb5",
   "metadata": {},
   "source": [
    "The variables arg1,arg2,argn are the parameters needed for the execution of the function's statements\n",
    "\n",
    "To pass output from the function into the console, main_program, etc., it's advisable to use the return statement, which is acceptable way for function outputs.\n",
    "\n",
    "\n",
    "To invoke the function, you call the function_name on the actual input values, and each input value must denote a defined dummy argument."
   ]
  },
  {
   "cell_type": "code",
   "execution_count": null,
   "id": "cf5156a1",
   "metadata": {},
   "outputs": [],
   "source": [
    "def sum_of_nums(a,b):\n",
    "    c=a+b\n",
    "    return c\n",
    "    "
   ]
  },
  {
   "cell_type": "code",
   "execution_count": null,
   "id": "6ac1f151",
   "metadata": {},
   "outputs": [],
   "source": [
    "sum_of_nums(2,3)"
   ]
  },
  {
   "cell_type": "code",
   "execution_count": null,
   "id": "5e544615",
   "metadata": {},
   "outputs": [],
   "source": [
    "sum_of_nums(30,20)"
   ]
  },
  {
   "cell_type": "raw",
   "id": "c2791673",
   "metadata": {},
   "source": []
  },
  {
   "cell_type": "markdown",
   "id": "e5cbdb7a",
   "metadata": {},
   "source": [
    "# Working with packages / modules"
   ]
  },
  {
   "cell_type": "raw",
   "id": "2f70027a",
   "metadata": {},
   "source": [
    "import package\n",
    "import package as alias\n",
    "from package import sub-package"
   ]
  },
  {
   "cell_type": "markdown",
   "id": "cfd03382",
   "metadata": {},
   "source": [
    "<font color='red'><h2>List of Packages/modules that will be useful for this training</h2></font>\n",
    "<hr>\n",
    "<ul>\n",
    "    <li>Numpy: <a href=\"https://pypi.org/project/numpy/\">https://pypi.org/project/numpy/</a> </li>\n",
    "    <li>Scipy: <a href=\"https://pypi.org/project/scipy/\">https://pypi.org/project/scipy/</a> </li>\n",
    "    <li>Matplotlib: <a href=\"https://pypi.org/project/matplotlib/\">https://pypi.org/project/matplotlib/</a> </li>\n",
    "    <li>Seaborn: <a href=\"https://pypi.org/project/seaborn/\">https://pypi.org/project/seaborn/</a> </li>\n",
    "    <li>Pandas: <a href=\"https://pypi.org/project/pandas/\">https://pypi.org/project/pandas/</a> </li>\n",
    "    <li>Xarray: <a href=\"https://pypi.org/project/xarray/\">https://pypi.org/project/xarray/</a> </li>\n",
    "    <li>Cartopy: <a href=\"https://pypi.org/project/Cartopy/\">https://pypi.org/project/Cartopy/</a> </li>\n",
    "</ul>\n",
    "    <hr>"
   ]
  },
  {
   "cell_type": "code",
   "execution_count": null,
   "id": "14c6d81f",
   "metadata": {},
   "outputs": [],
   "source": [
    "import os\n",
    "os.getcwd()              # Get the current working Directory"
   ]
  },
  {
   "cell_type": "markdown",
   "id": "4fd5aacf",
   "metadata": {},
   "source": [
    "# Numpy"
   ]
  },
  {
   "cell_type": "code",
   "execution_count": null,
   "id": "0c5bcf88",
   "metadata": {},
   "outputs": [],
   "source": [
    "import numpy as np"
   ]
  },
  {
   "cell_type": "code",
   "execution_count": null,
   "id": "e44c1d8d",
   "metadata": {},
   "outputs": [],
   "source": [
    "# Generate 25 random positive numbers (between 0 and 1)\n",
    "x = np.random.rand(25)       \n",
    "x"
   ]
  },
  {
   "cell_type": "code",
   "execution_count": null,
   "id": "4becc445",
   "metadata": {},
   "outputs": [],
   "source": [
    "np.mean(x)      # Average of x"
   ]
  },
  {
   "cell_type": "code",
   "execution_count": null,
   "id": "789a7b98",
   "metadata": {},
   "outputs": [],
   "source": [
    "np.median(x)    #Mid-point of x"
   ]
  },
  {
   "cell_type": "code",
   "execution_count": null,
   "id": "1ffa7f7d",
   "metadata": {},
   "outputs": [],
   "source": [
    "np.max(x)      # Highest Value in x"
   ]
  },
  {
   "cell_type": "code",
   "execution_count": null,
   "id": "438c5fa2",
   "metadata": {},
   "outputs": [],
   "source": [
    "np.argmax(x)      # Index/Position of Highest Value in x"
   ]
  },
  {
   "cell_type": "code",
   "execution_count": null,
   "id": "649d9120",
   "metadata": {},
   "outputs": [],
   "source": [
    "np.sum(x)        # Sum of x"
   ]
  },
  {
   "cell_type": "code",
   "execution_count": null,
   "id": "67863cd2",
   "metadata": {},
   "outputs": [],
   "source": [
    "np.linspace(10,11)       # Generate a series of numbers from 10 to 11, evenly spaced out."
   ]
  },
  {
   "cell_type": "code",
   "execution_count": null,
   "id": "aa17c33c",
   "metadata": {},
   "outputs": [],
   "source": [
    "np.linspace(10,11,25)       # Generate a series of numbers from 10 to 11, evenly spaced out and with a length of 25."
   ]
  },
  {
   "cell_type": "code",
   "execution_count": null,
   "id": "d281fc02",
   "metadata": {},
   "outputs": [],
   "source": [
    "x = np.linspace(0,10,15)\n",
    "y = np.array([1,2,3])\n",
    "\n",
    "xx, yy = np.meshgrid(x, y)\n",
    "yy"
   ]
  },
  {
   "cell_type": "code",
   "execution_count": null,
   "id": "13ec303a",
   "metadata": {},
   "outputs": [],
   "source": [
    "np.shape(xx)            # Shape of xx"
   ]
  },
  {
   "cell_type": "code",
   "execution_count": null,
   "id": "2f09b747",
   "metadata": {},
   "outputs": [],
   "source": [
    "np.size(xx)            # Total size of xx"
   ]
  },
  {
   "cell_type": "code",
   "execution_count": null,
   "id": "3d1a75be",
   "metadata": {},
   "outputs": [],
   "source": [
    "np.transpose(yy)      # Transpose the Array"
   ]
  },
  {
   "cell_type": "markdown",
   "id": "4a7d17cd",
   "metadata": {},
   "source": [
    "# Simple Visualization"
   ]
  },
  {
   "cell_type": "raw",
   "id": "808e6969",
   "metadata": {},
   "source": [
    "import matplotlib.pyplot as plt"
   ]
  },
  {
   "cell_type": "code",
   "execution_count": null,
   "id": "68ae525e",
   "metadata": {},
   "outputs": [],
   "source": [
    "import matplotlib.pyplot as plt"
   ]
  },
  {
   "cell_type": "code",
   "execution_count": null,
   "id": "753eb7ba",
   "metadata": {},
   "outputs": [],
   "source": [
    "# We generate a 2 column dataset, containing 100 rows each \n",
    "# Set a random seed for reproducibility\n",
    "np.random.seed(0)\n",
    "\n",
    "# Generate random data for 2 columns and 100 rows\n",
    "data = np.random.random((100, 2))\n",
    "\n",
    "# Visualize the data (Column 1 is the independent variable and Column 2 is the dependent variable)\n",
    "plt.figure()                      # Create Figure Frame / Canvas\n",
    "plt.plot( data[:,0] , data[:,1] , color='r', marker='s', linewidth=0)  # Plot with red markers and no connecting lines\n",
    "plt.ylabel('Column 2', fontsize=15)\n",
    "plt.xlabel('Column 1', fontsize=15)\n",
    "plt.title('Simple Plot')"
   ]
  },
  {
   "cell_type": "markdown",
   "id": "62832b4d",
   "metadata": {},
   "source": [
    "## Subplotting"
   ]
  },
  {
   "cell_type": "code",
   "execution_count": null,
   "id": "51d78e4c",
   "metadata": {},
   "outputs": [],
   "source": [
    "# We attempt to produce a 2-column x 2-row subplot\n",
    "fig = plt.figure()\n",
    "plt.subplots_adjust(wspace=0.5, hspace=0.5)\n",
    "\n",
    "# Top-Left\n",
    "ax = fig.add_subplot(2, 2, 1)\n",
    "ax.plot(data[:,0])\n",
    "\n",
    "# Top-Right\n",
    "ax1 = fig.add_subplot(2, 2, 2)\n",
    "ax1.plot(data[:,1])\n",
    "\n",
    "# Bottom-Left\n",
    "ax2 = fig.add_subplot(2, 2, 3)\n",
    "ax2.plot( data[:,0] , data[:,1] , color='k', marker='o', linewidth=0)  # Plot with red markers and no connecting lines\n",
    "\n",
    "# Bottom-Right\n"
   ]
  },
  {
   "cell_type": "markdown",
   "id": "0042d883",
   "metadata": {},
   "source": [
    "### Alternatively"
   ]
  },
  {
   "cell_type": "code",
   "execution_count": null,
   "id": "259d5dab",
   "metadata": {},
   "outputs": [],
   "source": [
    "fig, axes = plt.subplots(ncols=2, nrows=2)\n",
    "plt.subplots_adjust(wspace=0.5, hspace=0.5)\n",
    "\n",
    "# Top-Left\n",
    "axes[0,0].plot(data[:,0])\n",
    "\n",
    "# Top-Right\n",
    "axes[0,1].plot(data[:,1])\n",
    "\n",
    "# Bottom-Left\n",
    "axes[1,0].plot( data[:,0] , data[:,1] , color='k', marker='o', linewidth=0)  # Plot with red markers and no connecting lines\n",
    "\n",
    "# Bottom-Right\n",
    "axes[1,1].set_visible(False)        #Hide Panel"
   ]
  },
  {
   "cell_type": "raw",
   "id": "ff0f5671",
   "metadata": {},
   "source": []
  },
  {
   "cell_type": "markdown",
   "id": "21358a99",
   "metadata": {},
   "source": [
    "# <font color='blue'>pandas - working with tabular data</font>\n",
    "\n",
    "In this session, you will be introduced to the fundamentals of Pandas and its regular usage. \n",
    "\n",
    "The `pandas` library is the best python package for working with tabular data (i.e. data that is organised into rows and columns) and is one of the most preferred tools for data scientists to perform data manipulation and analysis. It is built on fundamental libraries, such as, `matplotlib` for data visualization and `numpy`, for scientific computing. The fast, flexible `pandas` data structures are designed to make real-world data analysis significantly easier, however it takes consistency in practice to master.\n",
    "\n",
    "\n",
    "# <font color='blue'>What's pandas for?</font>\n",
    "\n",
    "Pandas has so many uses. It is essentially your data’s home. Through `pandas`, you get acquainted with your data by cleaning, transforming, and analyzing it. There are numerous tasks you can perform with Pandas on a dataset, which include but is not limited to:\n",
    "\n",
    "- Calculating statistics of the data, and making inferrence such as\n",
    "    - What's the average, median, max, or min of each column?\n",
    "    - Does column A correlate with column B?\n",
    "    - What does the distribution of data in column C look like?, etc.\n",
    "- Clean the data (eg. removing missing values and filtering rows or columns by certain criteria)\n",
    "- Visualize the data with help from Matplotlib or Seaborn. \n",
    "- Store the cleaned, transformed data into other file.\n"
   ]
  },
  {
   "cell_type": "markdown",
   "id": "d3c1e491",
   "metadata": {},
   "source": [
    "# <font color='blue'>How to Install Pandas</font>\n",
    "\n",
    "Being a pure python package `pandas` can be installed either with `pip` or with `conda`. `pandas` is included with the `conda` environment for the course, but in general you would install by opening up your terminal / command line and install using either:\n",
    "        \n",
    "```bash\n",
    "$> conda install pandas\n",
    "```\n",
    "\n",
    "or\n",
    "\n",
    "```bash\n",
    "$> pip install pandas\n",
    "```\n",
    "\n",
    "Precede the commands with (!) if you are attempting to install via the Jupyter cell or Spyder console (`!pip install pandas`)."
   ]
  },
  {
   "cell_type": "markdown",
   "id": "d7cb5126",
   "metadata": {},
   "source": [
    "<h2><font color='blue'>IMPORTING/LOADING PANDAS PACKAGES</font></h2>\n",
    "<strong><font color='red'>Option 1:</font></strong> import pandas <br />\n",
    "<strong><font color='red'>Option 2:</font></strong> import pandas as pd<br />\n",
    "<strong><font color='red'>Option 3:</font></strong> from pandas import date_range<br />\n",
    "<strong><font color='red'>Option 4:</font></strong> from pandas import date_range as pdr<br />\n",
    "\n",
    "We will try a few after introducing them. Usually, you should place your imports at the top of the notebook."
   ]
  },
  {
   "cell_type": "code",
   "execution_count": null,
   "id": "b363a784",
   "metadata": {},
   "outputs": [],
   "source": [
    "import pandas as pd\n",
    "import numpy as np\n",
    "import matplotlib.pyplot as plt"
   ]
  },
  {
   "cell_type": "markdown",
   "id": "ebbe1a28",
   "metadata": {},
   "source": [
    "You can make use of the `help()` function with any pandas function/module and this produces a long-list documentation on use of the particular feature.\n",
    "\n",
    "eg. `help(pd.date_range)`"
   ]
  },
  {
   "cell_type": "code",
   "execution_count": null,
   "id": "159b7dc9",
   "metadata": {},
   "outputs": [],
   "source": [
    "help(pd.date_range)"
   ]
  },
  {
   "cell_type": "markdown",
   "id": "c4d9310f",
   "metadata": {},
   "source": [
    "# <font color='blue'>Read Data from .csv file</font>\n",
    "\n",
    "There are many useful datasets we will be using during this Webinar Session. Find <a href=\"https://github.com/aqppssgh/2023-School/tree/main/Data\">Here</a>"
   ]
  },
  {
   "cell_type": "code",
   "execution_count": null,
   "id": "b68d1d77",
   "metadata": {},
   "outputs": [],
   "source": [
    "github_raw_url = \"https://raw.githubusercontent.com/aqppssgh/2023-School/main/Data/Jamestown.csv\"\n",
    "\n",
    "df = pd.read_csv(github_raw_url, sep=',')  #Read data from csv file with separator / delimiter set as comma.\n",
    "df"
   ]
  },
  {
   "cell_type": "markdown",
   "id": "cc8cc9e7",
   "metadata": {},
   "source": [
    "# Getting Basic Information about the dataFrame"
   ]
  },
  {
   "cell_type": "code",
   "execution_count": null,
   "id": "12593f92",
   "metadata": {},
   "outputs": [],
   "source": [
    "df.head()       #Top 5 rows of the data"
   ]
  },
  {
   "cell_type": "code",
   "execution_count": null,
   "id": "fb36f598",
   "metadata": {},
   "outputs": [],
   "source": [
    "df.tail(2)       #Bottom 2 rows of the data"
   ]
  },
  {
   "cell_type": "code",
   "execution_count": null,
   "id": "7b2f317b",
   "metadata": {},
   "outputs": [],
   "source": [
    "df.info()"
   ]
  },
  {
   "cell_type": "code",
   "execution_count": null,
   "id": "174ac9f7",
   "metadata": {
    "id": "B-7Gl4BRljET",
    "scrolled": true
   },
   "outputs": [],
   "source": [
    "df.shape  # Provides the shape of the dataframe"
   ]
  },
  {
   "cell_type": "code",
   "execution_count": null,
   "id": "16a7da50",
   "metadata": {
    "id": "W1AUnYiAluc4"
   },
   "outputs": [],
   "source": [
    "df.size  # Provides the size of the dataframe"
   ]
  },
  {
   "cell_type": "code",
   "execution_count": null,
   "id": "c4293ea9",
   "metadata": {
    "id": "evFY-7H-l2B5"
   },
   "outputs": [],
   "source": [
    "df.columns  # Provides the column headers"
   ]
  },
  {
   "cell_type": "code",
   "execution_count": null,
   "id": "ffa4cf5a",
   "metadata": {
    "id": "bZAxMRgTl8xR"
   },
   "outputs": [],
   "source": [
    "df.index  # Provides the row index of the dataframe"
   ]
  },
  {
   "cell_type": "code",
   "execution_count": null,
   "id": "38562fe9",
   "metadata": {},
   "outputs": [],
   "source": [
    "df.describe()             #Gives a basic statistical description/summary of the data"
   ]
  },
  {
   "cell_type": "code",
   "execution_count": null,
   "id": "ec3d2deb",
   "metadata": {
    "id": "lRvmjJLfmN16"
   },
   "outputs": [],
   "source": [
    "df.count()  # Provides the number of elements within the dataframe."
   ]
  },
  {
   "cell_type": "code",
   "execution_count": null,
   "id": "60935229",
   "metadata": {
    "id": "I7Tcd8femZeM"
   },
   "outputs": [],
   "source": [
    "df.sum()  # Provides the summation of the dataframe elements."
   ]
  },
  {
   "cell_type": "code",
   "execution_count": null,
   "id": "6e677540",
   "metadata": {
    "id": "L8O119MAxP-O"
   },
   "outputs": [],
   "source": [
    "df.cumsum()                # Provides the cumulative sum of the dataframe elements."
   ]
  },
  {
   "cell_type": "code",
   "execution_count": null,
   "id": "80e88e80",
   "metadata": {
    "id": "DMiOGLQsxRfH"
   },
   "outputs": [],
   "source": [
    "df.min()  # Provides the minimumn/maximum of the dataframe elements.\n",
    "df.max()"
   ]
  },
  {
   "cell_type": "markdown",
   "id": "5d5a6d1f",
   "metadata": {},
   "source": [
    "# <font color='blue'>Select Column(s)</font>\n",
    "\n",
    "There are 2 ways to select a column data from a pandas DataFrame. You can employ the square brackets approach or the dot method. Let's test out both options, by calling out the Air Quality Index (aqi) data from df."
   ]
  },
  {
   "cell_type": "code",
   "execution_count": null,
   "id": "bd451fa8",
   "metadata": {},
   "outputs": [],
   "source": [
    "df['aqi']   #Approach 1"
   ]
  },
  {
   "cell_type": "code",
   "execution_count": null,
   "id": "776f4b09",
   "metadata": {},
   "outputs": [],
   "source": [
    "df.aqi   #Approach 2"
   ]
  },
  {
   "cell_type": "markdown",
   "id": "9fe6250e",
   "metadata": {},
   "source": [
    "#### For multiple column selections, the square brackets approach is preferred. In that instance, within the selection, pass the columns to select as a list ([.....]) into the existing square brackets. \n",
    "<br />\n",
    "\n",
    "#### Let's try out an example of selecting both aqi and Calibrated PM$_{2.5}$ mass concentration <b>(pm2_5MassConcCalib[ug/m3])</b>.\n",
    "\n",
    "Example:"
   ]
  },
  {
   "cell_type": "code",
   "execution_count": null,
   "id": "0611813f",
   "metadata": {},
   "outputs": [],
   "source": [
    "df[ [\"aqi\",\"pm2_5MassConcCalib[ug/m3]\" ] ]"
   ]
  },
  {
   "cell_type": "markdown",
   "id": "842c23e8",
   "metadata": {
    "id": "ogX1WB65oE4s"
   },
   "source": [
    "## Sort and Rank Data with Pandas\n",
    "\n",
    "This allows for arranging dataframe in a specified order (increasing/decreasing), based on priority."
   ]
  },
  {
   "cell_type": "code",
   "execution_count": null,
   "id": "a16bc720",
   "metadata": {},
   "outputs": [],
   "source": [
    "df.sort_index()       # Sort by the index"
   ]
  },
  {
   "cell_type": "code",
   "execution_count": null,
   "id": "2ace5a61",
   "metadata": {},
   "outputs": [],
   "source": [
    "df.sort_values(by=\"aqi\")  # sort by Wind Speed"
   ]
  },
  {
   "cell_type": "code",
   "execution_count": null,
   "id": "2e5e82a0",
   "metadata": {
    "id": "67G4dFGooE4t"
   },
   "outputs": [],
   "source": [
    "df.sort_values(\n",
    "    by=[\"aqi\", \"pm1MassConcRaw[ug/m3]\"]\n",
    ")  # Sort by Temperature and then Wind Direction"
   ]
  },
  {
   "cell_type": "code",
   "execution_count": null,
   "id": "a70e7458",
   "metadata": {
    "id": "wiMzIxJ2aSYs",
    "scrolled": true
   },
   "outputs": [],
   "source": [
    "# Assign ranks to entries\n",
    "df.rank()"
   ]
  },
  {
   "cell_type": "markdown",
   "id": "d153652a",
   "metadata": {},
   "source": [
    "# DataFrames & Series\n",
    "Tabular data are treated by Pandas as either Series (essentially a single column) or DataFrame (multi-dimensional table made up of a collection of Series)."
   ]
  },
  {
   "cell_type": "code",
   "execution_count": null,
   "id": "a06c8469",
   "metadata": {},
   "outputs": [],
   "source": [
    "type(df.aqi)"
   ]
  },
  {
   "cell_type": "code",
   "execution_count": null,
   "id": "f8283991",
   "metadata": {},
   "outputs": [],
   "source": [
    "type(df)"
   ]
  },
  {
   "cell_type": "markdown",
   "id": "255fda97",
   "metadata": {},
   "source": [
    "# Timeseries\n",
    "Pandas has in-built functionality ( .to_datetime() ) that allows it read and interpret timeseries when passed into it. "
   ]
  },
  {
   "cell_type": "code",
   "execution_count": null,
   "id": "be2bfe0e",
   "metadata": {},
   "outputs": [],
   "source": [
    "df.timeUtc    #The default df.timeUtc data is read as an object"
   ]
  },
  {
   "cell_type": "code",
   "execution_count": null,
   "id": "12015b47",
   "metadata": {},
   "outputs": [],
   "source": [
    "pd.to_datetime( df.timeUtc )     #After employing the .to_datetime() method, df.timeUtc is converted to datetime64 datatype (time format)."
   ]
  },
  {
   "cell_type": "code",
   "execution_count": null,
   "id": "22349bc3",
   "metadata": {},
   "outputs": [],
   "source": [
    "# Let's attempt to convert the df.timeUtc to a datetime format and set as the index for the Tabular Data"
   ]
  },
  {
   "cell_type": "code",
   "execution_count": null,
   "id": "83eb2533",
   "metadata": {},
   "outputs": [],
   "source": [
    "df.timeUtc = pd.to_datetime( df.timeUtc )\n",
    "df = df.set_index(\"timeUtc\")"
   ]
  },
  {
   "cell_type": "code",
   "execution_count": null,
   "id": "364899f8",
   "metadata": {},
   "outputs": [],
   "source": [
    "df"
   ]
  },
  {
   "cell_type": "markdown",
   "id": "9c63d680",
   "metadata": {},
   "source": [
    "# Simple Visualizations"
   ]
  },
  {
   "cell_type": "code",
   "execution_count": null,
   "id": "383ec074",
   "metadata": {},
   "outputs": [],
   "source": [
    "df.aqi.plot()"
   ]
  },
  {
   "cell_type": "code",
   "execution_count": null,
   "id": "c152c956",
   "metadata": {},
   "outputs": [],
   "source": [
    "df.aqi.plot(kind='kde')"
   ]
  },
  {
   "cell_type": "code",
   "execution_count": null,
   "id": "d1ec4e01",
   "metadata": {},
   "outputs": [],
   "source": [
    "df.plot.scatter(x='aqi', y=\"pm2_5MassConcRaw[ug/m3]\")"
   ]
  },
  {
   "cell_type": "raw",
   "id": "05b4d490",
   "metadata": {},
   "source": []
  },
  {
   "cell_type": "markdown",
   "id": "15a9f96c",
   "metadata": {},
   "source": [
    "# CASE ASSESSMENTS \n",
    "\n",
    "https://ourworldindata.org/\n",
    "\n",
    "# <font color=\"red\">1. OUTDOOR POLLUTION RATES (BY AGE)</font>"
   ]
  },
  {
   "cell_type": "code",
   "execution_count": null,
   "id": "8d16778f",
   "metadata": {},
   "outputs": [],
   "source": [
    "github_raw_url = \"https://raw.githubusercontent.com/aqppssgh/2023-School/main/Data/outdoor-pollution-rates-by-age.csv\"\n",
    "\n",
    "df_opr_age = pd.read_csv(github_raw_url, skiprows=1)\n",
    "df_opr_age"
   ]
  },
  {
   "cell_type": "markdown",
   "id": "2e5b5d6a",
   "metadata": {},
   "source": [
    "# Subset Ghana Data Only "
   ]
  },
  {
   "cell_type": "code",
   "execution_count": null,
   "id": "404586e1",
   "metadata": {},
   "outputs": [],
   "source": [
    "df_GH = df_opr_age[ df_opr_age.Entity == 'Ghana' ]"
   ]
  },
  {
   "cell_type": "markdown",
   "id": "9926b2bc",
   "metadata": {},
   "source": [
    "# Drop Columns (Entity & Code) & Set Year as Index"
   ]
  },
  {
   "cell_type": "code",
   "execution_count": null,
   "id": "8f731846",
   "metadata": {},
   "outputs": [],
   "source": [
    "df_GH = df_GH.drop(['Entity','Code'], axis=1).set_index('Year')"
   ]
  },
  {
   "cell_type": "code",
   "execution_count": null,
   "id": "7087d4fd",
   "metadata": {},
   "outputs": [],
   "source": [
    "df_GH.plot(\n",
    "           marker='s',\n",
    "           legend=False, \n",
    "           title='Deaths from all causes attributed to ambient particulate \\nmatter pollution per 100,000 people, in both sexes '\n",
    ")\n",
    "\n",
    "#plt.yscale('log')    # Set y-ticks in Logarithmic Order\n",
    "plt.legend(bbox_to_anchor=(1,.85)) # Place Legend at position 1 on x-axis and 0.85 on y-axis locations"
   ]
  },
  {
   "cell_type": "markdown",
   "id": "40706742",
   "metadata": {},
   "source": [
    "# Question\n",
    "\n",
    "* What do these figures imply?"
   ]
  },
  {
   "cell_type": "raw",
   "id": "256eb6bb",
   "metadata": {},
   "source": []
  },
  {
   "cell_type": "markdown",
   "id": "c547f42e",
   "metadata": {},
   "source": [
    "# <font color=\"red\">2. NUMBER OF DEATHS BY RISK FACTOR</font>"
   ]
  },
  {
   "cell_type": "code",
   "execution_count": null,
   "id": "e97b927c",
   "metadata": {},
   "outputs": [],
   "source": [
    "github_raw_url = \"https://raw.githubusercontent.com/aqppssgh/2023-School/main/Data/number-of-deaths-by-risk-factor.csv\"\n",
    "\n",
    "df = pd.read_csv(github_raw_url, skiprows=1)\n",
    "df"
   ]
  },
  {
   "cell_type": "markdown",
   "id": "0a755424",
   "metadata": {},
   "source": [
    "# Subset Ghana Data Only "
   ]
  },
  {
   "cell_type": "code",
   "execution_count": null,
   "id": "65d44177",
   "metadata": {},
   "outputs": [],
   "source": [
    "df_GH = df[df.Entity == 'Ghana']"
   ]
  },
  {
   "cell_type": "markdown",
   "id": "1d96300d",
   "metadata": {},
   "source": [
    "# Drop Columns (Entity & Code) & Set Year as Index"
   ]
  },
  {
   "cell_type": "code",
   "execution_count": null,
   "id": "d445eb6e",
   "metadata": {},
   "outputs": [],
   "source": [
    "df_GH = df_GH.drop(['Entity','Code'], axis=1).set_index('Year')"
   ]
  },
  {
   "cell_type": "markdown",
   "id": "7b8b57a2",
   "metadata": {},
   "source": [
    "# Visualization"
   ]
  },
  {
   "cell_type": "code",
   "execution_count": null,
   "id": "d7e09f0a",
   "metadata": {
    "scrolled": true
   },
   "outputs": [],
   "source": [
    "colors = ['r','g','b','y','m','c','k','brown','grey','orange']\n",
    "linestyle = ['-', '--']\n",
    "markers = ['s', 'o', 'v', 'p', '^', 'd', '>']\n",
    "\n",
    "for x,var in enumerate(df_GH.columns):\n",
    "    df_GH[var].plot(\n",
    "                    legend = False,\n",
    "                    title = 'Deaths that are from all causes attributed to',\n",
    "                    marker = markers[x//4],\n",
    "                    color = colors[x%10]\n",
    "    )\n",
    "    \n",
    "    plt.legend(bbox_to_anchor=(1.05,1.05), fontsize=8) # Place Legend at position 1 on x-axis and 0.85 on y-axis locations"
   ]
  },
  {
   "cell_type": "markdown",
   "id": "78ec0b23",
   "metadata": {},
   "source": [
    "# Question\n",
    "\n",
    "* What does this figure imply?"
   ]
  },
  {
   "cell_type": "raw",
   "id": "d457218b",
   "metadata": {},
   "source": []
  },
  {
   "cell_type": "markdown",
   "id": "1c8cbbfe",
   "metadata": {},
   "source": [
    "# Thank you for your attention!\n",
    "\n",
    "# Questions?"
   ]
  }
 ],
 "metadata": {
  "kernelspec": {
   "display_name": "Python 3 (ipykernel)",
   "language": "python",
   "name": "python3"
  },
  "language_info": {
   "codemirror_mode": {
    "name": "ipython",
    "version": 3
   },
   "file_extension": ".py",
   "mimetype": "text/x-python",
   "name": "python",
   "nbconvert_exporter": "python",
   "pygments_lexer": "ipython3",
   "version": "3.10.10"
  }
 },
 "nbformat": 4,
 "nbformat_minor": 5
}
