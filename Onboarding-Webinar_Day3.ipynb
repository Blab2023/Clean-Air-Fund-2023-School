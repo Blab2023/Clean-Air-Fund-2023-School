{
 "cells": [
  {
   "cell_type": "markdown",
   "id": "0f840689",
   "metadata": {},
   "source": [
    "<div  style=\"height:410px\" >\n",
    "<img src=\"img/banner.png\" style=\"width:800px\" align=\"center\" />\n",
    "</div>\n",
    "<br />\n",
    "<br />\n",
    "<br />\n"
   ]
  },
  {
   "cell_type": "markdown",
   "id": "c5cc4b25",
   "metadata": {},
   "source": [
    "# <font color='red' size=14>Day 3: </font> Working with NetCDF file format. <br /> \n",
    "\n",
    "notebook by Jeffrey N. A. Aryee (PhD)\n",
    "<hr />\n",
    "\n",
    "<div>\n",
    "    <h2>Duration: 1.5 hours</h2>\n",
    "    <h2>Recordings of the sessions will be made available at: <a href=\"www.youtube.com/@meteodata\">www.youtube.com/@meteodata</a></h2>\n",
    "</div>\n",
    "\n",
    "\n",
    "<hr />"
   ]
  },
  {
   "cell_type": "markdown",
   "id": "ea41d750",
   "metadata": {},
   "source": [
    "# What is a NetCDF file?\n",
    "\n",
    "NetCDF (network Common Data Form) is a file format for storing multidimensional scientific data (variables) containing a combination of:\n",
    "\n",
    "* <b>Spatial information</b> — Location on the surface of the Earth.\n",
    "* <b>Time information</b> — At what time of the day and year, the measurements were taken.\n",
    "* <b>Scientific values</b> — Like Temperature, Rainfall, etc. which we discussed before.\n",
    "\n",
    "The above features contribute to the huge size of the dataset and we want it to be scalable and appendable (as new data is generated every day). Simply put, this is what the NetCDF data format does. It holds spatial information in the form of latitudes and longitudes, time, and also scientific measurements in an easy-to-read manner. Network Common Data Form Or NetCDF (in short) is a data format and also a set of software libraries created to aid the scientific community and more particularly the Geo Sciences. The primary source of information about netCDF data is the <a href=\"https://www.unidata.ucar.edu/software/netcdf/\">Unidata community</a>. <br /><br />\n",
    "\n",
    "\n",
    "<b><font color=\"red\">Data in netCDF format is:</font></b>\n",
    "\n",
    "* <b>Self-Describing:</b> A netCDF file includes information about the data it contains.\n",
    "* <b>Portable:</b> A netCDF file can be accessed by computers with different ways of storing integers, characters, and floating-point numbers.\n",
    "* <b>Scalable:</b> Small subsets of large datasets in various formats may be accessed efficiently through netCDF interfaces, even from remote servers.\n",
    "* <b>Appendable:</b> Data may be appended to a properly structured netCDF file without copying the dataset or redefining its structure.\n",
    "* <b>Sharable:</b> One writer and multiple readers may simultaneously access the same netCDF file.\n",
    "* <b>Archivable:</b> Access to all earlier forms of netCDF data will be supported by current and future versions of the software.<br /><br />\n",
    "\n",
    "<img align=\"center\" width=\"900px\" src=\"img/netCDF.png\" />\n",
    "\n",
    "<br /> <br />    \n",
    "In Python, there are several packages that help to read and write NetCDF data file. Example:\n",
    "\n",
    "- Xarray\n",
    "- NetCDF4 <br />\n",
    "etc..."
   ]
  },
  {
   "cell_type": "markdown",
   "id": "51c40e51",
   "metadata": {},
   "source": []
  },
  {
   "cell_type": "markdown",
   "id": "2c4b74c8",
   "metadata": {},
   "source": [
    "# Xarray\n",
    "\n",
    "<img src=\"img/xarray.png\" />\n",
    "\n",
    "# Details on Xarray: <a href=\"https://earth-env-data-science.github.io/lectures/xarray/xarray_intro.html\"> https://earth-env-data-science.github.io/lectures/xarray/xarray_intro.html </a>"
   ]
  },
  {
   "cell_type": "raw",
   "id": "644f6803",
   "metadata": {},
   "source": [
    "!pip install xarray"
   ]
  },
  {
   "cell_type": "markdown",
   "id": "2bdac9c8",
   "metadata": {},
   "source": [
    "# Let's pull a sample data from the Github repo using the requests module"
   ]
  },
  {
   "cell_type": "code",
   "execution_count": null,
   "id": "6312f34f",
   "metadata": {},
   "outputs": [],
   "source": [
    "import requests"
   ]
  },
  {
   "cell_type": "code",
   "execution_count": null,
   "id": "2aa9b212",
   "metadata": {},
   "outputs": [],
   "source": [
    "# URL of the NetCDF file on GitHub\n",
    "url = \"https://raw.githubusercontent.com/aqppssgh/2023-School/main/Data/rainfall.nc\"\n",
    "\n",
    "# Define the local filename for the downloaded file\n",
    "local_filename = 'rainfall_data.nc'\n",
    "\n",
    "# Download the file\n",
    "response = requests.get(url)\n",
    "with open(local_filename, 'wb') as file:\n",
    "    file.write(response.content)"
   ]
  },
  {
   "cell_type": "markdown",
   "id": "8bac81b4",
   "metadata": {},
   "source": [
    "# Import Xarray"
   ]
  },
  {
   "cell_type": "code",
   "execution_count": null,
   "id": "35e88c93",
   "metadata": {},
   "outputs": [],
   "source": [
    "import xarray as xr\n",
    "from warnings import filterwarnings\n",
    "filterwarnings('ignore')"
   ]
  },
  {
   "cell_type": "markdown",
   "id": "e9bcbc89",
   "metadata": {},
   "source": [
    "# Open and Close NetCDF File(s)\n",
    "<br />\n",
    "You can read a <b>single .nc file</b> using the <b>open_dataset</b> method and <b>open_mfdataset</b> if you are dealing with <b>multiple .nc files</b>."
   ]
  },
  {
   "cell_type": "code",
   "execution_count": null,
   "id": "88b33231",
   "metadata": {},
   "outputs": [],
   "source": [
    "ds = xr.open_dataset(local_filename)\n",
    "ds"
   ]
  },
  {
   "cell_type": "markdown",
   "id": "6eea402c",
   "metadata": {},
   "source": [
    "# Basic Information of the Dataset"
   ]
  },
  {
   "cell_type": "code",
   "execution_count": null,
   "id": "8b482283",
   "metadata": {},
   "outputs": [],
   "source": [
    "ds.info()"
   ]
  },
  {
   "cell_type": "code",
   "execution_count": null,
   "id": "e91b3a74",
   "metadata": {},
   "outputs": [],
   "source": [
    "ds.attrs        #Get metadata information (The Attributes)"
   ]
  },
  {
   "cell_type": "code",
   "execution_count": null,
   "id": "ae831fbc",
   "metadata": {},
   "outputs": [],
   "source": [
    "ds.dims         #Check the dimensions of the data"
   ]
  },
  {
   "cell_type": "code",
   "execution_count": null,
   "id": "482d320c",
   "metadata": {},
   "outputs": [],
   "source": [
    "ds.coords         #Check the coordinates of the data"
   ]
  },
  {
   "cell_type": "code",
   "execution_count": null,
   "id": "ab719e71",
   "metadata": {},
   "outputs": [],
   "source": [
    "ds.data_vars         #Check the data variables contained"
   ]
  },
  {
   "cell_type": "code",
   "execution_count": null,
   "id": "0d5b1f1e",
   "metadata": {},
   "outputs": [],
   "source": [
    "# Close Dataset\n",
    "#ds.close()"
   ]
  },
  {
   "cell_type": "markdown",
   "id": "2dbbbbd5",
   "metadata": {},
   "source": [
    "# Variable Selection"
   ]
  },
  {
   "cell_type": "code",
   "execution_count": null,
   "id": "bf2247fa",
   "metadata": {},
   "outputs": [],
   "source": [
    "ds"
   ]
  },
  {
   "cell_type": "code",
   "execution_count": null,
   "id": "d8126335",
   "metadata": {},
   "outputs": [],
   "source": [
    "# Option 1\n",
    "ds.pr"
   ]
  },
  {
   "cell_type": "code",
   "execution_count": null,
   "id": "808570e7",
   "metadata": {},
   "outputs": [],
   "source": [
    "# Option 2\n",
    "ds['pr']"
   ]
  },
  {
   "cell_type": "markdown",
   "id": "4ef24f5b",
   "metadata": {},
   "source": [
    "# What is the difference between ds and ds.pr "
   ]
  },
  {
   "cell_type": "code",
   "execution_count": null,
   "id": "ba3f5e12",
   "metadata": {},
   "outputs": [],
   "source": [
    "type(ds)"
   ]
  },
  {
   "cell_type": "code",
   "execution_count": null,
   "id": "64392915",
   "metadata": {},
   "outputs": [],
   "source": [
    "type(ds.pr)"
   ]
  },
  {
   "cell_type": "markdown",
   "id": "c32f2591",
   "metadata": {},
   "source": [
    "# Datasets (ds) & DataArrays (da)\n",
    "\n",
    "\n",
    "***DataArray***\n",
    "- A multi-dimensional array with labeled or named dimensions. DataArray objects add metadata such as dimension names, coordinates, and attributes (defined below) to underlying “unlabeled” data structures such as numpy and Dask arrays. If its optional name property is set, it is a named DataArray. <br /><br />\n",
    "\n",
    "***Dataset***\n",
    "- A dict-like collection of DataArray objects with aligned dimensions. Thus, most operations that can be performed on the dimensions of a single DataArray can be performed on a dataset. Datasets have data variables (see Variable below), dimensions, coordinates, and attributes."
   ]
  },
  {
   "cell_type": "raw",
   "id": "21f455e3",
   "metadata": {},
   "source": []
  },
  {
   "cell_type": "markdown",
   "id": "0bb51cc4",
   "metadata": {},
   "source": [
    "***Data Attributes***\n",
    "\n",
    "'***Checking Attributes of A DataArray***"
   ]
  },
  {
   "cell_type": "code",
   "execution_count": null,
   "id": "baf5b12d",
   "metadata": {},
   "outputs": [],
   "source": [
    "ds.pr.attrs"
   ]
  },
  {
   "cell_type": "code",
   "execution_count": null,
   "id": "2b4b35a6",
   "metadata": {},
   "outputs": [],
   "source": [
    "ds.pr.attrs['standard_name']"
   ]
  },
  {
   "cell_type": "markdown",
   "id": "b02aef2e",
   "metadata": {},
   "source": [
    "# Re-assign Attribute"
   ]
  },
  {
   "cell_type": "code",
   "execution_count": null,
   "id": "ceec4269",
   "metadata": {},
   "outputs": [],
   "source": [
    "ds.pr.attrs['units'] = 'm'\n",
    "ds.pr.attrs['units']"
   ]
  },
  {
   "cell_type": "markdown",
   "id": "4b6c4c22",
   "metadata": {},
   "source": [
    "# Check DataArray Properties"
   ]
  },
  {
   "cell_type": "markdown",
   "id": "f05788ce",
   "metadata": {},
   "source": [
    "***Check Shape and Size of Data Variables***"
   ]
  },
  {
   "cell_type": "code",
   "execution_count": null,
   "id": "e31cf413",
   "metadata": {},
   "outputs": [],
   "source": [
    "ds.pr.shape"
   ]
  },
  {
   "cell_type": "code",
   "execution_count": null,
   "id": "8f17a14a",
   "metadata": {},
   "outputs": [],
   "source": [
    "ds.pr.size"
   ]
  },
  {
   "cell_type": "markdown",
   "id": "3448d849",
   "metadata": {},
   "source": [
    "***Co-ordinates & Dimensions***\n",
    "\n",
    "* <strong><font color=\"red\">Coordinates:</font></strong> Values associated with a specific dimension in a dataset. They define the locations or positions along that dimension. <br /><br />\n",
    "\n",
    "* <strong><font color=\"red\">Dimensions:</font></strong> Descriptive labels that specify the size or extent of a particular axis in a dataset. They define the shape and structure of the data."
   ]
  },
  {
   "cell_type": "code",
   "execution_count": null,
   "id": "5d118a71",
   "metadata": {},
   "outputs": [],
   "source": [
    "ds.pr.coords"
   ]
  },
  {
   "cell_type": "code",
   "execution_count": null,
   "id": "155efa61",
   "metadata": {},
   "outputs": [],
   "source": [
    "ds.dims"
   ]
  },
  {
   "cell_type": "markdown",
   "id": "5a7f3ade",
   "metadata": {},
   "source": [
    "# Selection / Subsetting Data\n",
    "\n",
    "***Selections or slicing can be performed along any dimension.***"
   ]
  },
  {
   "cell_type": "code",
   "execution_count": null,
   "id": "e7599139",
   "metadata": {},
   "outputs": [],
   "source": [
    "da = ds.pr\n",
    "da"
   ]
  },
  {
   "cell_type": "code",
   "execution_count": null,
   "id": "edeb117b",
   "metadata": {},
   "outputs": [],
   "source": [
    "da_pr_20140601 = ds['pr'].sel(time='2014-06-01')        #Select Data for 1st June 2014  \n",
    "da_pr_20140601"
   ]
  },
  {
   "cell_type": "code",
   "execution_count": null,
   "id": "a2d89043",
   "metadata": {},
   "outputs": [],
   "source": [
    "da_pr_20140601.plot()"
   ]
  },
  {
   "cell_type": "code",
   "execution_count": null,
   "id": "47c95856",
   "metadata": {},
   "outputs": [],
   "source": [
    "da_mean_201406 = ds['pr'].sel(time='2014-06').mean('time')\n",
    "da_mean_201406"
   ]
  },
  {
   "cell_type": "code",
   "execution_count": null,
   "id": "757a3e93",
   "metadata": {},
   "outputs": [],
   "source": [
    "da_mean_201406.plot()"
   ]
  },
  {
   "cell_type": "markdown",
   "id": "e2dcab9d",
   "metadata": {},
   "source": [
    "***Selection along a single dimension***"
   ]
  },
  {
   "cell_type": "code",
   "execution_count": null,
   "id": "b8348727",
   "metadata": {},
   "outputs": [],
   "source": [
    "da.lon"
   ]
  },
  {
   "cell_type": "code",
   "execution_count": null,
   "id": "e4c679b6",
   "metadata": {},
   "outputs": [],
   "source": [
    "da.sel(lon=-4.6875)        #Selecting Data for a known longitude"
   ]
  },
  {
   "cell_type": "code",
   "execution_count": null,
   "id": "02ad0810",
   "metadata": {},
   "outputs": [],
   "source": [
    "da.isel(lon=0)        #Selecting Data for by its longitudes index/position"
   ]
  },
  {
   "cell_type": "markdown",
   "id": "ffa9cc1a",
   "metadata": {},
   "source": [
    "## Point Selection\n",
    "\n",
    "Selecting Data for a given point. \n",
    "It is important to note that the coordinates of your point of interest may not be contained in the data. As such, you may wish to select the closest point contained in the data, or better still, interpolate for your initial location based on a pattern that is established for neighbouring stations. <br />\n",
    "\n",
    "In the example below, we employ the nearest neighbour method."
   ]
  },
  {
   "cell_type": "code",
   "execution_count": null,
   "id": "fb69ef9b",
   "metadata": {},
   "outputs": [],
   "source": [
    "help(xr.Dataset.sel)       #Documentation on the selection method and accompanying interpolation schemes"
   ]
  },
  {
   "cell_type": "markdown",
   "id": "dc3db429",
   "metadata": {},
   "source": [
    "***Using Coordinates of Kumasi in decimal degrees (Latitude: 6.6885° Longitude: -1.624°)***"
   ]
  },
  {
   "cell_type": "code",
   "execution_count": null,
   "id": "c396220b",
   "metadata": {
    "scrolled": true
   },
   "outputs": [],
   "source": [
    "da.sel(lon=-1.624, lat=6.6885, method='nearest')"
   ]
  },
  {
   "cell_type": "code",
   "execution_count": null,
   "id": "3611fd43",
   "metadata": {},
   "outputs": [],
   "source": [
    "da.sel(lon=-1.624, lat=6.6885, method='ffill')"
   ]
  },
  {
   "cell_type": "markdown",
   "id": "1d6a7d1d",
   "metadata": {},
   "source": [
    "**Areal Selection/Slicing**"
   ]
  },
  {
   "cell_type": "code",
   "execution_count": null,
   "id": "03072c1a",
   "metadata": {},
   "outputs": [],
   "source": [
    "da.sel( lon=slice(-2,1), lat=slice(5,7.5) )"
   ]
  },
  {
   "cell_type": "markdown",
   "id": "a7964f35",
   "metadata": {},
   "source": [
    "# Simple Visualizations\n",
    "\n",
    "***1D    - line plots*** <br />\n",
    "***2D    - Spatial / contour plots*** <br />\n",
    "***3D ++ - Histogram*** <br />"
   ]
  },
  {
   "cell_type": "code",
   "execution_count": null,
   "id": "aff60541",
   "metadata": {},
   "outputs": [],
   "source": [
    "da.sel(time='2014-06')"
   ]
  },
  {
   "cell_type": "code",
   "execution_count": null,
   "id": "3e5d806d",
   "metadata": {},
   "outputs": [],
   "source": [
    "da.sel(time='2014-06').plot()"
   ]
  },
  {
   "cell_type": "code",
   "execution_count": null,
   "id": "1f26c75f",
   "metadata": {},
   "outputs": [],
   "source": [
    "da.sel(time='2014-06-15')"
   ]
  },
  {
   "cell_type": "code",
   "execution_count": null,
   "id": "7396ab6c",
   "metadata": {},
   "outputs": [],
   "source": [
    "da.sel(time='2014-06-15').plot()"
   ]
  },
  {
   "cell_type": "code",
   "execution_count": null,
   "id": "d401cabd",
   "metadata": {},
   "outputs": [],
   "source": [
    "da.sel(lon=-1.624, lat=6.6885, method='nearest')"
   ]
  },
  {
   "cell_type": "code",
   "execution_count": null,
   "id": "f078a75f",
   "metadata": {},
   "outputs": [],
   "source": [
    "da.sel(lon=-1.624, lat=6.6885, method='nearest').plot()"
   ]
  },
  {
   "cell_type": "markdown",
   "id": "34d0f7b1",
   "metadata": {},
   "source": [
    "# Groupby & Resampling\n",
    "\n",
    "***Time-based Groupings***"
   ]
  },
  {
   "cell_type": "markdown",
   "id": "cbe385d5",
   "metadata": {},
   "source": [
    "***Producing Annual Totals / Annual Means***"
   ]
  },
  {
   "cell_type": "code",
   "execution_count": null,
   "id": "1c71e464",
   "metadata": {},
   "outputs": [],
   "source": [
    "a1 = da.groupby('time.year').sum('time')\n",
    "a1"
   ]
  },
  {
   "cell_type": "code",
   "execution_count": null,
   "id": "fc81a1bc",
   "metadata": {},
   "outputs": [],
   "source": [
    "a1.sel(year=2014).plot()"
   ]
  },
  {
   "cell_type": "code",
   "execution_count": null,
   "id": "bddf21ec",
   "metadata": {},
   "outputs": [],
   "source": [
    "a1.mean(['lon','lat'])"
   ]
  },
  {
   "cell_type": "code",
   "execution_count": null,
   "id": "848ee4c3",
   "metadata": {},
   "outputs": [],
   "source": [
    "a1.mean(['lon','lat']).plot()      #Areal-averaged Annual Totals"
   ]
  },
  {
   "cell_type": "markdown",
   "id": "873950e8",
   "metadata": {},
   "source": [
    "***Monthly Climatologies***"
   ]
  },
  {
   "cell_type": "code",
   "execution_count": null,
   "id": "ac475a05",
   "metadata": {},
   "outputs": [],
   "source": [
    "da_month_mean = da.groupby('time.month').mean('time')\n",
    "da_month_mean"
   ]
  },
  {
   "cell_type": "code",
   "execution_count": null,
   "id": "91f632be",
   "metadata": {},
   "outputs": [],
   "source": [
    "da_month_mean.sel(month=1).plot()"
   ]
  },
  {
   "cell_type": "code",
   "execution_count": null,
   "id": "c24b7a05",
   "metadata": {},
   "outputs": [],
   "source": [
    "# Let's create a FacetPlot\n",
    "da_month_mean.plot(col_wrap=4, col='month')"
   ]
  },
  {
   "cell_type": "markdown",
   "id": "1ad74f76",
   "metadata": {},
   "source": [
    "***Seasonal Groupings***"
   ]
  },
  {
   "cell_type": "code",
   "execution_count": null,
   "id": "3eb5b26b",
   "metadata": {},
   "outputs": [],
   "source": [
    "da_seas_mean = da.groupby('time.season').mean('time')\n",
    "da_seas_mean"
   ]
  },
  {
   "cell_type": "code",
   "execution_count": null,
   "id": "2545d2a8",
   "metadata": {},
   "outputs": [],
   "source": [
    "# Create another FacetPlot\n",
    "da_seas_mean.plot(col='season', col_wrap=2)"
   ]
  },
  {
   "cell_type": "markdown",
   "id": "557a23a0",
   "metadata": {},
   "source": [
    "***Resampling*** <br />\n",
    "Handles both downsampling and upsampling. The resampled dimension must be a datetime-like coordinate. If any intervals contain no values from the original object, they will be given the value NaN."
   ]
  },
  {
   "cell_type": "code",
   "execution_count": null,
   "id": "321df9f3",
   "metadata": {},
   "outputs": [],
   "source": [
    "da.resample(time='1Y').mean('time')"
   ]
  },
  {
   "cell_type": "code",
   "execution_count": null,
   "id": "e7e4ca5d",
   "metadata": {},
   "outputs": [],
   "source": [
    "da.resample(time='MS').mean('time')      #Resample by each month of the year"
   ]
  },
  {
   "cell_type": "markdown",
   "id": "6534b285",
   "metadata": {},
   "source": [
    "***Seasonal Resampling***"
   ]
  },
  {
   "cell_type": "code",
   "execution_count": null,
   "id": "b16f3f86",
   "metadata": {},
   "outputs": [],
   "source": [
    "da.resample(time='QS-Jan').mean('time')     #Quarterly resamples, starting from January"
   ]
  },
  {
   "cell_type": "markdown",
   "id": "58a1a91c",
   "metadata": {},
   "source": [
    "<font color=\"red\"> <h1>Xarray Where method</h1></font>\n",
    "\n",
    "DataArray.where(cond, other=<NA>, drop=False) <br />\n",
    "Filter elements from this object according to a condition. <br />\n",
    "\n",
    "This operation follows the normal broadcasting and alignment rules that xarray uses for binary arithmetic."
   ]
  },
  {
   "cell_type": "markdown",
   "id": "50244b00",
   "metadata": {},
   "source": [
    "Let's select only Rainy events"
   ]
  },
  {
   "cell_type": "code",
   "execution_count": null,
   "id": "db9affc5",
   "metadata": {},
   "outputs": [],
   "source": [
    "da_to_slice = (da*1000).mean('time')\n",
    "da_to_slice.plot()"
   ]
  },
  {
   "cell_type": "code",
   "execution_count": null,
   "id": "c4a0e4fc",
   "metadata": {},
   "outputs": [],
   "source": [
    "da_to_slice.where(da.lat>6).plot()"
   ]
  },
  {
   "cell_type": "markdown",
   "id": "2c5350a9",
   "metadata": {},
   "source": [
    "# Map Projections with Cartopy"
   ]
  },
  {
   "cell_type": "code",
   "execution_count": null,
   "id": "52cec15c",
   "metadata": {},
   "outputs": [],
   "source": [
    "#!conda install -c conda-forge cartopy"
   ]
  },
  {
   "cell_type": "code",
   "execution_count": null,
   "id": "116cf16c",
   "metadata": {},
   "outputs": [],
   "source": [
    "from cartopy import crs, feature\n",
    "import matplotlib.pyplot as plt"
   ]
  },
  {
   "cell_type": "code",
   "execution_count": null,
   "id": "34551031",
   "metadata": {},
   "outputs": [],
   "source": [
    "fig = plt.figure()\n",
    "ax = fig.add_subplot(1,2,1, projection = crs.PlateCarree())\n",
    "\n",
    "ax1 = fig.add_subplot(1,2,2)\n",
    "\n",
    "print('ax = ', ax)\n",
    "print('ax1 = ', ax1)\n"
   ]
  },
  {
   "cell_type": "code",
   "execution_count": null,
   "id": "9b5b20d4",
   "metadata": {},
   "outputs": [],
   "source": [
    "fig = plt.figure(figsize=(10,10))\n",
    "ax = fig.add_subplot(1,2,1, projection = crs.PlateCarree())\n",
    "\n",
    "# Draw the coastlines\n",
    "ax.coastlines()"
   ]
  },
  {
   "cell_type": "markdown",
   "id": "167beffb",
   "metadata": {},
   "source": [
    "# Different Projections"
   ]
  },
  {
   "cell_type": "code",
   "execution_count": null,
   "id": "b8f58007",
   "metadata": {},
   "outputs": [],
   "source": [
    "fig = plt.figure(figsize=(10,10))\n",
    "ax = fig.add_subplot(1,2,1, projection = crs.PlateCarree())\n",
    "ax.coastlines()\n",
    "\n",
    "ax1 = fig.add_subplot(1,2,2, projection = crs.Robinson())\n",
    "ax1.coastlines()\n",
    "\n"
   ]
  },
  {
   "cell_type": "code",
   "execution_count": null,
   "id": "146ed06b",
   "metadata": {},
   "outputs": [],
   "source": [
    "fig = plt.figure(figsize=(10,10))\n",
    "ax = fig.add_subplot(1,2,1, projection = crs.PlateCarree())\n",
    "\n",
    "# Draw the coastlines\n",
    "ax.coastlines()\n",
    "\n",
    "# Draw the country Boundaries\n",
    "ax.add_feature(feature.BORDERS)\n"
   ]
  },
  {
   "cell_type": "markdown",
   "id": "4ca636e3",
   "metadata": {},
   "source": [
    "# Overlay Plot"
   ]
  },
  {
   "cell_type": "code",
   "execution_count": null,
   "id": "c00cc448",
   "metadata": {},
   "outputs": [],
   "source": [
    "fig = plt.figure(figsize=(10,10))\n",
    "ax = fig.add_subplot(1,1,1, projection = crs.PlateCarree())\n",
    "\n",
    "# Draw the coastlines\n",
    "ax.coastlines()\n",
    "\n",
    "# Draw the country Boundaries\n",
    "ax.add_feature(feature.BORDERS)\n",
    "\n",
    "\n",
    "# Add Mean Annual Totals\n",
    "year_means = da.groupby('time.year').mean('time')\n",
    "year_means.mean('year').plot(ax = ax)\n",
    "\n",
    "# Add Gridlines\n",
    "gl = ax.gridlines(linestyle='--')\n",
    "\n",
    "\n",
    "#set extent    (left, right, bottom, top)\n",
    "ax.set_extent([-25,55, -37, 35])\n"
   ]
  },
  {
   "cell_type": "markdown",
   "id": "a60d49aa",
   "metadata": {},
   "source": [
    "# Applying A Different Projection"
   ]
  },
  {
   "cell_type": "code",
   "execution_count": null,
   "id": "016bf959",
   "metadata": {
    "scrolled": true
   },
   "outputs": [],
   "source": [
    "fig = plt.figure(figsize=(10,10))\n",
    "ax = fig.add_subplot(1,1,1, projection = crs.Robinson())\n",
    "\n",
    "# Draw the coastlines\n",
    "ax.coastlines()\n",
    "\n",
    "# Draw the country Boundaries\n",
    "ax.add_feature(feature.BORDERS)\n",
    "\n",
    "\n",
    "# Add Mean Annual Totals\n",
    "year_means = da.groupby('time.year').mean('time')\n",
    "year_means.mean('year').plot(ax = ax)\n",
    "\n",
    "# Add Gridlines\n",
    "gl = ax.gridlines(linestyle='--')\n",
    "\n",
    "\n",
    "#set extent    (left, right, bottom, top)\n",
    "ax.set_extent([-25,55, -37, 35])\n"
   ]
  },
  {
   "cell_type": "code",
   "execution_count": null,
   "id": "e11a82a2",
   "metadata": {},
   "outputs": [],
   "source": [
    "fig = plt.figure(figsize=(10,10))\n",
    "ax = fig.add_subplot(1,1,1, projection = crs.Robinson())\n",
    "\n",
    "# Draw the coastlines\n",
    "ax.coastlines()\n",
    "\n",
    "# Draw the country Boundaries\n",
    "ax.add_feature(feature.BORDERS)\n",
    "\n",
    "\n",
    "# Add Mean Annual Totals\n",
    "year_means = da.groupby('time.year').mean('time')\n",
    "year_means.mean('year').plot(ax = ax, transform=crs.PlateCarree())\n",
    "\n",
    "# Add Gridlines\n",
    "gl = ax.gridlines(linestyle='--')\n",
    "\n",
    "\n",
    "#set extent    (left, right, bottom, top)\n",
    "ax.set_extent([-25,55, -37, 35])\n"
   ]
  },
  {
   "cell_type": "markdown",
   "id": "046c384a",
   "metadata": {},
   "source": [
    "# THE END.\n",
    "\n",
    "# ANY QUESTIONS?"
   ]
  }
 ],
 "metadata": {
  "kernelspec": {
   "display_name": "Python 3 (ipykernel)",
   "language": "python",
   "name": "python3"
  },
  "language_info": {
   "codemirror_mode": {
    "name": "ipython",
    "version": 3
   },
   "file_extension": ".py",
   "mimetype": "text/x-python",
   "name": "python",
   "nbconvert_exporter": "python",
   "pygments_lexer": "ipython3",
   "version": "3.10.10"
  }
 },
 "nbformat": 4,
 "nbformat_minor": 5
}
